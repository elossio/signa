{
 "cells": [
  {
   "cell_type": "markdown",
   "metadata": {
    "id": "PIa-kJ-Frdm-"
   },
   "source": [
    "# The StatQuest Illustrated Guide to Neural Networks and AI\n",
    "## Chapter 14 - Encoder-Only Transformers!!!\n",
    "\n",
    "## **Summarizing Documents with Text Clustering and Topic Modeling**\n",
    "\n",
    "----\n",
    "\n",
    "This tutorial is from the book, **[The StatQuest Illustrated Guide to Neural Networks and AI](https://www.amazon.com/dp/B0DRS71QVQ)**.\n",
    "\n",
    "**NOTE:** This notebook is heavily based on the tutorial in Chapter 5 of *[Hands-On Large Language Models](https://www.oreilly.com/library/view/hands-on-large-language/9781098150952/)* by [Jay Alammar](https://www.linkedin.com/in/jalammar/) and [Maarten Grootendorst](https://www.linkedin.com/in/mgrootendorst/). This book is amazing, and I highly recommend purchasing it ASAP. Anyway, I changed a few things from their original code and descriptions, mainly by adding to what they already did.\n",
    "\n",
    "The idea here (illustrated below) is that we start with a bunch of documents about all kinds of things, and we want to cluster the documents and give each cluster a title. We'll use an Encoder-Only LLM, or Representative AI, to cluster the documents based on similar themes, topics, and meanings rather than just keywords or neighboring words (like we did with Word Embedding). Then, we'll use a Decoder-Only LLM, or Generative AI, to give each cluster an excellent title. And we'll do all of this without knowing anything about these documents in advance. So, this gives us a great tool for exploratory data analysis and dealing with vast archives that we otherwise would need help with.\n",
    "\n",
    "<img src=\"images/text_summarization_overview.png\" alt=\"the curse of high dimensionality\" width=\"800\" />"
   ]
  },
  {
   "cell_type": "markdown",
   "metadata": {
    "id": "yMdgQ5tw1jZ4"
   },
   "source": [
    "\n",
    "---\n",
    "        \n",
    "**NOTE**: We will want to use a GPU to run the examples in this notebook. In Google Colab, go to\n",
    "**Runtime > Change runtime type > Hardware accelerator > GPU > GPU type > T4**.\n",
    "\n",
    "---"
   ]
  },
  {
   "cell_type": "markdown",
   "metadata": {
    "id": "FJqb5blUxPYs"
   },
   "source": [
    "# Install packages"
   ]
  },
  {
   "cell_type": "code",
   "execution_count": 3,
   "metadata": {
    "id": "SxKTbfqRYnET"
   },
   "outputs": [],
   "source": [
    "%%capture \n",
    "## NOTE: Installation might take a couple of minutes, so go get yourself a snack!\n",
    "## %%capture prevents this cell from printing a ton of STDERR stuff to the screen\n",
    "\n",
    "!pip install bertopic datasets datamapplot WordCloud\n",
    "## bertopic - BERTopic is a BERT based LLM that combines transformers and c-TF-IDF \n",
    "##            to create clusters of easily interpretable topics\n",
    "##            NOTE: By default, bertopic comes with sentence-transformers (aka SBERT), UMAP and HDBSCAN\n",
    "##                  because those, plus C-TF-IDF, form the standard BERTopic pipeline.\n",
    "## datasets - a huggingface package that makes it easy to access datasets stored on their site\n",
    "## datamapplot - creates nice looking plots of data maps\n",
    "## WordCloud - generates word clouds"
   ]
  },
  {
   "cell_type": "markdown",
   "metadata": {
    "id": "QMvfcUTmZj-t"
   },
   "source": [
    "**NOTE**: Make sure to **restart** the runtime after installing the above packages!"
   ]
  },
  {
   "cell_type": "markdown",
   "metadata": {
    "id": "lHIkQSBkV2Y3",
    "jp-MarkdownHeadingCollapsed": true
   },
   "source": [
    "---"
   ]
  },
  {
   "cell_type": "markdown",
   "metadata": {
    "id": "lHIkQSBkV2Y3"
   },
   "source": [
    "# Load the data\n",
    "\n",
    "In this tutorial, we will use a [subset](https://huggingface.co/datasets/MaartenGr/arxiv_nlp) of the [arXiv Dataset](https://www.kaggle.com/datasets/Cornell-University/arxiv) that was created by [Maarten Grootendorst](https://www.linkedin.com/in/mgrootendorst/) specifically for the *[Hands-On Large Language Models](https://www.oreilly.com/library/view/hands-on-large-language/9781098150952/)* book. The dataset contains 44,949 abstracts published between 1991 and 2024 from ArXiv’s Computation and Language section, aka cs.CL."
   ]
  },
  {
   "cell_type": "code",
   "execution_count": 4,
   "metadata": {},
   "outputs": [
    {
     "ename": "ModuleNotFoundError",
     "evalue": "No module named 'datasets'",
     "output_type": "error",
     "traceback": [
      "\u001b[0;31m---------------------------------------------------------------------------\u001b[0m",
      "\u001b[0;31mModuleNotFoundError\u001b[0m                       Traceback (most recent call last)",
      "Cell \u001b[0;32mIn[4], line 2\u001b[0m\n\u001b[1;32m      1\u001b[0m \u001b[38;5;66;03m# Load the data directly from huggingface using their datasets module\u001b[39;00m\n\u001b[0;32m----> 2\u001b[0m \u001b[38;5;28;01mfrom\u001b[39;00m\u001b[38;5;250m \u001b[39m\u001b[38;5;21;01mdatasets\u001b[39;00m\u001b[38;5;250m \u001b[39m\u001b[38;5;28;01mimport\u001b[39;00m load_dataset\n\u001b[1;32m      4\u001b[0m dataset \u001b[38;5;241m=\u001b[39m load_dataset(\u001b[38;5;124m\"\u001b[39m\u001b[38;5;124mmaartengr/arxiv_nlp\u001b[39m\u001b[38;5;124m\"\u001b[39m)[\u001b[38;5;124m\"\u001b[39m\u001b[38;5;124mtrain\u001b[39m\u001b[38;5;124m\"\u001b[39m]\n\u001b[1;32m      5\u001b[0m dataset\n",
      "\u001b[0;31mModuleNotFoundError\u001b[0m: No module named 'datasets'"
     ]
    }
   ],
   "source": [
    "# Load the data directly from huggingface using their datasets module\n",
    "from datasets import load_dataset\n",
    "\n",
    "dataset = load_dataset(\"maartengr/arxiv_nlp\")[\"train\"]\n",
    "dataset"
   ]
  },
  {
   "cell_type": "markdown",
   "metadata": {},
   "source": [
    "Now, pull out the abstracts and the titles..."
   ]
  },
  {
   "cell_type": "code",
   "execution_count": 3,
   "metadata": {},
   "outputs": [],
   "source": [
    "abstracts = dataset[\"Abstracts\"]\n",
    "titles = dataset[\"Titles\"]"
   ]
  },
  {
   "cell_type": "markdown",
   "metadata": {},
   "source": [
    "...and then print out the first 2 abstracts."
   ]
  },
  {
   "cell_type": "code",
   "execution_count": 4,
   "metadata": {},
   "outputs": [
    {
     "data": {
      "text/plain": [
       "['  In this paper Arabic was investigated from the speech recognition problem\\npoint of view. We propose a novel approach to build an Arabic Automated Speech\\nRecognition System (ASR). This system is based on the open source CMU Sphinx-4,\\nfrom the Carnegie Mellon University. CMU Sphinx is a large-vocabulary;\\nspeaker-independent, continuous speech recognition system based on discrete\\nHidden Markov Models (HMMs). We build a model using utilities from the\\nOpenSource CMU Sphinx. We will demonstrate the possible adaptability of this\\nsystem to Arabic voice recognition.\\n',\n",
       " '  In this paper we present the creation of an Arabic version of Automated\\nSpeech Recognition System (ASR). This system is based on the open source\\nSphinx-4, from the Carnegie Mellon University. Which is a speech recognition\\nsystem based on discrete hidden Markov models (HMMs). We investigate the\\nchanges that must be made to the model to adapt Arabic voice recognition.\\n  Keywords: Speech recognition, Acoustic model, Arabic language, HMMs,\\nCMUSphinx-4, Artificial intelligence.\\n']"
      ]
     },
     "execution_count": 4,
     "metadata": {},
     "output_type": "execute_result"
    }
   ],
   "source": [
    "abstracts[0:2]"
   ]
  },
  {
   "cell_type": "markdown",
   "metadata": {},
   "source": [
    "---"
   ]
  },
  {
   "cell_type": "markdown",
   "metadata": {
    "id": "pcFT-b2QV3_r"
   },
   "source": [
    "# **Part 1: Text Clustering**\n",
    "\n",
    "There are many methods for text clustering, but the one we'll use in this tutorial has\n",
    "three steps:\n",
    "\n",
    "1. Convert the input documents to embeddings with an *embedding model*.\n",
    "    In this example, we'll use [SBERT](https://www.sbert.net/), also knowing as SentenceTransformers, to create the embeddings. SBERT is an Encoder-Only Transformer, which is a type of Representative AI.\n",
    "2. Reduce the dimensionality of embeddings with a *dimensionality reduction model*. In this example,\n",
    "   we'll use UMAP to reduce the dimensions of the model. To learn more about UMAP, see this [StatQuest](https://youtu.be/eN0wFzBA4Sc).\n",
    "3. Find groups of semantically similar documents with a *cluster model*. In this example, we'll use HDBSCAN, which is a hierarchical version of DBSCAN. To learn more about DBSCAN, check out the [StatQuest](https://youtu.be/RDZUdRSDOok) and [this great description of HDBSCAN specifics.](https://pberba.github.io/stats/2020/01/17/hdbscan/)\n",
    "\n",
    "We'll start by converting the abstracts into embeddings."
   ]
  },
  {
   "cell_type": "markdown",
   "metadata": {
    "id": "tBpD9d2EV6HJ"
   },
   "source": [
    "## **Part 1, Step 1: Convert the abstracts into embeddings**\n",
    "\n",
    "The pre-trained SBERT model that we'll use to convert the abstracts into embeddings is the [gte-small model](https://huggingface.co/thenlper/gte-small) - the \"gte\" part stands for \"General Text Embeddings,\" and the \"small\" refers to its relative size; it only has 33 million parameters, whereas many other models have well over 100 million parameters (to see for yourself, you can compare models on HuggingFace's [Massive Text Embedding Benchmark (MTEB) Leaderboard](https://huggingface.co/spaces/mteb/leaderboard). **NOTE:** The gte-small model only accepts 512 tokens and any input that is longer than that is truncated."
   ]
  },
  {
   "cell_type": "code",
   "execution_count": 5,
   "metadata": {
    "colab": {
     "base_uri": "https://localhost:8080/",
     "height": 49,
     "referenced_widgets": [
      "18e03962f36049e2869ea5f7dbda3973",
      "5478cef31f6c4df89f37ab9619672b94",
      "89655f0c32194549a5b6f910a806d64b",
      "82bb3afe96b84887b6dec2836e346707",
      "9977f43a9e514adda488325cb2eafa2e",
      "1e474f19cfb44eee8f08193e70542313",
      "4ef0e581a3134a37b035b1cedcc67065",
      "13c85fbfa9e44714a2d9400fb6c21396",
      "3b9fce1566c5461b82a2931087dfe096",
      "44b60956730f45b0834c738b3ad83175",
      "4ac21e7871f540df9b382a0d08d03141"
     ]
    },
    "executionInfo": {
     "elapsed": 293293,
     "status": "ok",
     "timestamp": 1713954980110,
     "user": {
      "displayName": "Maarten Grootendorst",
      "userId": "11015108362723620659"
     },
     "user_tz": -120
    },
    "id": "woTpVEpCV5kH",
    "outputId": "511a50d3-01be-4f27-b6b9-9d76c7a90f28"
   },
   "outputs": [
    {
     "name": "stderr",
     "output_type": "stream",
     "text": [
      "Batches: 100%|██████████| 1405/1405 [02:20<00:00, 10.03it/s]\n"
     ]
    }
   ],
   "source": [
    "from sentence_transformers import SentenceTransformer\n",
    "\n",
    "# download the pre-trained SBERT model\n",
    "embedding_model = SentenceTransformer('thenlper/gte-small')\n",
    "\n",
    "## create the embeddings for the abstracts.\n",
    "embeddings = embedding_model.encode(abstracts, show_progress_bar=True)"
   ]
  },
  {
   "cell_type": "markdown",
   "metadata": {},
   "source": [
    "Now that we've created the embeddings, we can verify that all 44,949 abstracts have 384 word embedding values associated with them by printing out the `.shape`."
   ]
  },
  {
   "cell_type": "code",
   "execution_count": 6,
   "metadata": {
    "colab": {
     "base_uri": "https://localhost:8080/"
    },
    "executionInfo": {
     "elapsed": 396,
     "status": "ok",
     "timestamp": 1713954980467,
     "user": {
      "displayName": "Maarten Grootendorst",
      "userId": "11015108362723620659"
     },
     "user_tz": -120
    },
    "id": "QZwmECcNA519",
    "outputId": "113498d9-df69-4bb5-f7e7-d00ef2fbf84f"
   },
   "outputs": [
    {
     "data": {
      "text/plain": [
       "(44949, 384)"
      ]
     },
     "execution_count": 6,
     "metadata": {},
     "output_type": "execute_result"
    }
   ],
   "source": [
    "# Check the dimensions of the resulting embeddings\n",
    "embeddings.shape"
   ]
  },
  {
   "cell_type": "markdown",
   "metadata": {
    "id": "G_nsz_U7WEsw"
   },
   "source": [
    "## **Part 1, Step 2: Reduce the Dimensionality of Embeddings**"
   ]
  },
  {
   "cell_type": "markdown",
   "metadata": {},
   "source": [
    "The model we used to create the embeddings, gte-small, is a general-purpose model designed to perform well given a wide variety of tasks, like classification and ranking, and, as a result, creates more embedding values than we need for clustering. Having too many embedding values, or dimensions, results in sparse data that can be difficult to cluster and is an example of [The Curse of Dimensionality](https://en.wikipedia.org/wiki/Curse_of_dimensionality). The illustration below shows the curse in action. On the left, we have 3 data points in a 2-dimensional graph. Each point is relatively far from the others, and thus, it's difficult to know how to best cluster them. However, in the center, we reduced the dimension to just the y-axis and, on the right side, we we see points A and B are relatively close to each other compared to point C. Thus, we'll put points A and B together in a cluster.\n",
    "\n",
    "<img src=\"images/curse_of_high_d.png\" alt=\"the curse of high dimensionality\" width=\"800\" />\n",
    "\n",
    "One popular method for reducing dimensions is UMAP, which stands for Uniform Manifold Approximation and Projection, and we'll use it to reduce the dimensions from 384 to 5. **NOTE:** The distance metric that we are using is the Cosine Similarity. If you are not already familiar with the Cosine Similarity, check out the [StatQuest](https://youtu.be/e9U0QAFbfLI)."
   ]
  },
  {
   "cell_type": "code",
   "execution_count": 7,
   "metadata": {
    "colab": {
     "base_uri": "https://localhost:8080/"
    },
    "executionInfo": {
     "elapsed": 80138,
     "status": "ok",
     "timestamp": 1713955060601,
     "user": {
      "displayName": "Maarten Grootendorst",
      "userId": "11015108362723620659"
     },
     "user_tz": -120
    },
    "id": "fXeo08d1WvOJ",
    "outputId": "4f388685-0ac4-450c-ec2c-d40b9e44f688"
   },
   "outputs": [
    {
     "name": "stderr",
     "output_type": "stream",
     "text": [
      "/home/evlossio/myprojects/signa/StatQuest/lib/python3.12/site-packages/sklearn/utils/deprecation.py:151: FutureWarning: 'force_all_finite' was renamed to 'ensure_all_finite' in 1.6 and will be removed in 1.8.\n",
      "  warnings.warn(\n",
      "/home/evlossio/myprojects/signa/StatQuest/lib/python3.12/site-packages/umap/umap_.py:1952: UserWarning: n_jobs value 1 overridden to 1 by setting random_state. Use no seed for parallelism.\n",
      "  warn(\n"
     ]
    }
   ],
   "source": [
    "#from umap import UMAP\n",
    "import umap.umap_ as UMAP\n",
    "\n",
    "# We reduce the input embeddings from 384 dimenions to 5 dimenions\n",
    "umap_model = UMAP.UMAP(\n",
    "    n_components=5, \n",
    "    min_dist=0.0, \n",
    "    metric='cosine', \n",
    "    random_state=42\n",
    ")\n",
    "reduced_embeddings_5 = umap_model.fit_transform(embeddings)"
   ]
  },
  {
   "cell_type": "code",
   "execution_count": 8,
   "metadata": {},
   "outputs": [
    {
     "data": {
      "text/plain": [
       "(44949, 5)"
      ]
     },
     "execution_count": 8,
     "metadata": {},
     "output_type": "execute_result"
    }
   ],
   "source": [
    "# Check the dimensions of the reduced embeddings\n",
    "reduced_embeddings_5.shape"
   ]
  },
  {
   "cell_type": "markdown",
   "metadata": {
    "id": "dqzr_8LFWGld"
   },
   "source": [
    "## **Part 1, Step 3: Cluster the Reduced Embeddings**\n",
    "\n",
    "Now that we have reduced the number of dimensions (or values) of our embeddings from 384 to just 5, we can try to find clusters. In this example, we'll use HDBSCAN to find the clusters."
   ]
  },
  {
   "cell_type": "code",
   "execution_count": 10,
   "metadata": {
    "colab": {
     "base_uri": "https://localhost:8080/"
    },
    "executionInfo": {
     "elapsed": 4416,
     "status": "ok",
     "timestamp": 1713955064994,
     "user": {
      "displayName": "Maarten Grootendorst",
      "userId": "11015108362723620659"
     },
     "user_tz": -120
    },
    "id": "fwq6qDydgWSP",
    "outputId": "b7e73337-bc2b-4abb-d1bb-e86b59c87a12"
   },
   "outputs": [],
   "source": [
    "#from hdbscan import HDBSCAN\n",
    "from sklearn.cluster import HDBSCAN\n",
    "## NOTE: The HDBSCAN call will generate a bunch of warnings. \n",
    "## If those bother you, you can run this code:\n",
    "# import os\n",
    "# os.environ[\"TOKENIZERS_PARALLELISM\"] = \"false\"\n",
    "\n",
    "# Find and label clusters\n",
    "hdbscan_model = HDBSCAN(\n",
    "    min_cluster_size=50, # each cluster must have >= 50 documents in it\n",
    "    metric='euclidean',  # clustering is based on euclidean distance\n",
    "    cluster_selection_method='eom' # eom = Excess of Mass and is the default clustering selection method\n",
    ").fit(reduced_embeddings_5)\n",
    "clusters = hdbscan_model.labels_"
   ]
  },
  {
   "cell_type": "code",
   "execution_count": 11,
   "metadata": {
    "colab": {
     "base_uri": "https://localhost:8080/"
    },
    "executionInfo": {
     "elapsed": 4416,
     "status": "ok",
     "timestamp": 1713955064994,
     "user": {
      "displayName": "Maarten Grootendorst",
      "userId": "11015108362723620659"
     },
     "user_tz": -120
    },
    "id": "fwq6qDydgWSP",
    "outputId": "b7e73337-bc2b-4abb-d1bb-e86b59c87a12"
   },
   "outputs": [
    {
     "data": {
      "text/plain": [
       "162"
      ]
     },
     "execution_count": 11,
     "metadata": {},
     "output_type": "execute_result"
    }
   ],
   "source": [
    "# Print out the number of cluseters\n",
    "len(set(clusters)) # set() removes duplicates - so we only count the unique cluster labels"
   ]
  },
  {
   "cell_type": "markdown",
   "metadata": {
    "id": "vi6ACUR4pU0f"
   },
   "source": [
    "Now that we have created the clusters, we can examine the first one to see if it makes sense. We do this by printing out the first three abstracts in the first cluster."
   ]
  },
  {
   "cell_type": "code",
   "execution_count": 12,
   "metadata": {
    "colab": {
     "base_uri": "https://localhost:8080/"
    },
    "executionInfo": {
     "elapsed": 47,
     "status": "ok",
     "timestamp": 1713955064995,
     "user": {
      "displayName": "Maarten Grootendorst",
      "userId": "11015108362723620659"
     },
     "user_tz": -120
    },
    "id": "uiPK4m0rpJl7",
    "outputId": "174ff96e-508c-419a-e0a6-7270500c1286"
   },
   "outputs": [
    {
     "name": "stdout",
     "output_type": "stream",
     "text": [
      "  This works aims to design a statistical machine translation from English text\n",
      "to American Sign Language (ASL). The system is based on Moses tool with some\n",
      "modifications and the results are synthesized through a 3D avatar for\n",
      "interpretation. First, we translate the input text to gloss, a written fo... \n",
      "\n",
      "  Researches on signed languages still strongly dissociate lin- guistic issues\n",
      "related on phonological and phonetic aspects, and gesture studies for\n",
      "recognition and synthesis purposes. This paper focuses on the imbrication of\n",
      "motion and meaning for the analysis, synthesis and evaluation of sign lang... \n",
      "\n",
      "  Modern computational linguistic software cannot produce important aspects of\n",
      "sign language translation. Using some researches we deduce that the majority of\n",
      "automatic sign language translation systems ignore many aspects when they\n",
      "generate animation; therefore the interpretation lost the truth inf... \n",
      "\n"
     ]
    }
   ],
   "source": [
    "import numpy as np\n",
    "\n",
    "# Print first three documents in cluster 0\n",
    "cluster = 0\n",
    "for index in np.where(clusters==cluster)[0][:3]:\n",
    "    print(abstracts[index][:300] + \"... \\n\")"
   ]
  },
  {
   "cell_type": "markdown",
   "metadata": {
    "id": "F9izgGjMX1Go"
   },
   "source": [
    "### Draw a 2-d graph of the clusters\n",
    "\n",
    "Drawing a graph to visualize the clusters takes two steps. First, we reduce the original 384 embeddings to two dimensions so that we can visualize them and get a rough understanding of the generated clusters."
   ]
  },
  {
   "cell_type": "code",
   "execution_count": 14,
   "metadata": {
    "colab": {
     "base_uri": "https://localhost:8080/"
    },
    "executionInfo": {
     "elapsed": 42808,
     "status": "ok",
     "timestamp": 1713955107766,
     "user": {
      "displayName": "Maarten Grootendorst",
      "userId": "11015108362723620659"
     },
     "user_tz": -120
    },
    "id": "gzr6xbTEYcyl",
    "outputId": "fbe9f434-560b-4118-edc8-b913974dd132"
   },
   "outputs": [
    {
     "name": "stderr",
     "output_type": "stream",
     "text": [
      "/home/evlossio/myprojects/signa/StatQuest/lib/python3.12/site-packages/sklearn/utils/deprecation.py:151: FutureWarning: 'force_all_finite' was renamed to 'ensure_all_finite' in 1.6 and will be removed in 1.8.\n",
      "  warnings.warn(\n",
      "/home/evlossio/myprojects/signa/StatQuest/lib/python3.12/site-packages/umap/umap_.py:1952: UserWarning: n_jobs value 1 overridden to 1 by setting random_state. Use no seed for parallelism.\n",
      "  warn(\n"
     ]
    }
   ],
   "source": [
    "import pandas as pd\n",
    "\n",
    "# Reduce 384-dimensional embeddings to 2 dimensions for easier visualization\n",
    "reduced_embeddings_2 = UMAP.UMAP(\n",
    "    n_components=2, \n",
    "    min_dist=0.0, \n",
    "    metric='cosine', \n",
    "    random_state=42\n",
    ").fit_transform(embeddings)\n",
    "\n",
    "# Create dataframe\n",
    "df = pd.DataFrame(reduced_embeddings_2, columns=[\"x\", \"y\"])\n",
    "df[\"title\"] = titles\n",
    "df[\"cluster\"] = [str(c) for c in clusters]\n",
    "\n",
    "# Select outliers and non-outliers (clusters)\n",
    "clusters_df = df.loc[df.cluster != \"-1\", :]\n",
    "outliers_df = df.loc[df.cluster == \"-1\", :]"
   ]
  },
  {
   "cell_type": "markdown",
   "metadata": {
    "id": "w3bUq3HHyQcw"
   },
   "source": [
    "Now that we have 2-dimensional data, we can do the second step: plot it."
   ]
  },
  {
   "cell_type": "code",
   "execution_count": 16,
   "metadata": {
    "colab": {
     "base_uri": "https://localhost:8080/",
     "height": 406
    },
    "executionInfo": {
     "elapsed": 3096,
     "status": "ok",
     "timestamp": 1713955705852,
     "user": {
      "displayName": "Maarten Grootendorst",
      "userId": "11015108362723620659"
     },
     "user_tz": -120
    },
    "id": "nptZUr0mLWSN",
    "outputId": "7d2766c9-5aee-4e30-f09c-2b53327104e2"
   },
   "outputs": [
    {
     "data": {
      "image/png": "[encoded data removed]",
      "text/plain": [
       "<Figure size 640x480 with 1 Axes>"
      ]
     },
     "metadata": {},
     "output_type": "display_data"
    }
   ],
   "source": [
    "import matplotlib.pyplot as plt\n",
    "\n",
    "# Plot outliers and non-outliers seperately\n",
    "plt.scatter(outliers_df.x, outliers_df.y, alpha=0.05, s=2, c=\"grey\")\n",
    "plt.scatter(\n",
    "    clusters_df.x, clusters_df.y, c=clusters_df.cluster.astype(int),\n",
    "    alpha=0.6, s=2, cmap='tab20b'\n",
    ")\n",
    "plt.axis('off')\n",
    "# plt.savefig(\"matplotlib.png\", dpi=300)  # Uncomment to save the graph as a .png\n",
    "plt.show()"
   ]
  },
  {
   "cell_type": "markdown",
   "metadata": {},
   "source": [
    "**BAM!** \n",
    "We've got a graph that shows how the 44,949 abstracts cluster. It's a bit messy, and because we have so many clusters, the colors are reused for different clusters (this means the light green patch at the top is a distinct cluster from the light green patch close to the middle). However, it's still cool.\n",
    "\n",
    "Now we're done with the **Text Clustering** part of this tutorial. The next step, **Topic Modeling**, gives each cluster an easy to understand label based on the overall theme that each cluster represents."
   ]
  },
  {
   "cell_type": "markdown",
   "metadata": {},
   "source": [
    "---"
   ]
  },
  {
   "cell_type": "markdown",
   "metadata": {
    "id": "1BgkDN8gWUUD"
   },
   "source": [
    "# **Part 2: Topic Modeling**"
   ]
  },
  {
   "cell_type": "markdown",
   "metadata": {},
   "source": [
    "To generate labels for each cluster, we'll first generate keywords and then feed those keywords into a generative LLM to create the labels. We'll use **BERTopic** to coordinate both steps."
   ]
  },
  {
   "cell_type": "markdown",
   "metadata": {},
   "source": [
    "## **Part 2, Step 1: Generate keywords**\n",
    "\n",
    "We'll start by using **BERTopic** to do what we did in Part 1 (Text Clustering by first creating word embeddings, then reducing the dimensions of the embeddings, and then clustering). However, because we are using BERTopic this time, it will also extract keywords representing each cluster.\n",
    "The keywords are determined with a class-based variant of Term Frequency Inverse Document Frequency **c-TF-IDF**.\n",
    "\n",
    "To get **BERTopic** going, we pass it the embedding, UMAP, and DBSCAN models we created earlier, and fit it to the abstracts using the embeddings we created earlier."
   ]
  },
  {
   "cell_type": "code",
   "execution_count": null,
   "metadata": {
    "colab": {
     "base_uri": "https://localhost:8080/",
     "height": 423
    },
    "executionInfo": {
     "elapsed": 15,
     "status": "ok",
     "timestamp": 1713955177614,
     "user": {
      "displayName": "Maarten Grootendorst",
      "userId": "11015108362723620659"
     },
     "user_tz": -120
    },
    "id": "q8vYjkscqUeX",
    "outputId": "39a414c2-9774-458f-fd42-5714307778ba"
   },
   "outputs": [],
   "source": [
    "topic_model.get_topic_info()"
   ]
  },
  {
   "cell_type": "markdown",
   "metadata": {
    "id": "6TNa-xEttfkf"
   },
   "source": [
    "To get the top 10 keywords per topic as well as their c-TF-IDF weights, we can use the `get_topic()` function. For example, for the first non-outlier topic..."
   ]
  },
  {
   "cell_type": "code",
   "execution_count": null,
   "metadata": {
    "colab": {
     "base_uri": "https://localhost:8080/"
    },
    "executionInfo": {
     "elapsed": 310,
     "status": "ok",
     "timestamp": 1713955289487,
     "user": {
      "displayName": "Maarten Grootendorst",
      "userId": "11015108362723620659"
     },
     "user_tz": -120
    },
    "id": "sPtrkto0wYyc",
    "outputId": "5e323f45-8943-4609-e14f-7b5f937903eb"
   },
   "outputs": [],
   "source": [
    "topic_model.get_topic(0)"
   ]
  },
  {
   "cell_type": "markdown",
   "metadata": {
    "id": "n8_tWTkowTLX"
   },
   "source": [
    "We can use the `find_topics()` function to search for specific topics based on a search term. Let’s search for a topic about topic modeling:"
   ]
  },
  {
   "cell_type": "code",
   "execution_count": null,
   "metadata": {
    "colab": {
     "base_uri": "https://localhost:8080/"
    },
    "executionInfo": {
     "elapsed": 204,
     "status": "ok",
     "timestamp": 1713955296432,
     "user": {
      "displayName": "Maarten Grootendorst",
      "userId": "11015108362723620659"
     },
     "user_tz": -120
    },
    "id": "xGzBPAt4pCfm",
    "outputId": "729db3f6-7f0a-400b-8ef7-3b617156efeb"
   },
   "outputs": [],
   "source": [
    "topic_model.find_topics(\"topic modeling\")"
   ]
  },
  {
   "cell_type": "markdown",
   "metadata": {
    "id": "JwMgKD7OzFJs"
   },
   "source": [
    "We can also see if the BERTopic paper was also assigned to topic the same topic:"
   ]
  },
  {
   "cell_type": "code",
   "execution_count": null,
   "metadata": {
    "colab": {
     "base_uri": "https://localhost:8080/"
    },
    "executionInfo": {
     "elapsed": 200,
     "status": "ok",
     "timestamp": 1713954391725,
     "user": {
      "displayName": "Maarten Grootendorst",
      "userId": "11015108362723620659"
     },
     "user_tz": -120
    },
    "id": "Sp_WTxHazA-g",
    "outputId": "15be0add-ea70-4bb4-dc85-4d761f8f59b1"
   },
   "outputs": [],
   "source": [
    "topic_model.topics_[titles.index('BERTopic: Neural topic modeling with a class-based TF-IDF procedure')]"
   ]
  },
  {
   "cell_type": "markdown",
   "metadata": {
    "id": "P5EZ3pvzzEpI"
   },
   "source": [
    "It is! **BAM!**"
   ]
  },
  {
   "cell_type": "markdown",
   "metadata": {
    "id": "P5EZ3pvzzEpI"
   },
   "source": [
    "Now that we have keywords for each topic, we can use BERTopic to create a new, interactive 2-D graph of the text clusters that includes the topic labels and shows manuscript titles when the mouse moves over the points."
   ]
  },
  {
   "cell_type": "code",
   "execution_count": null,
   "metadata": {
    "colab": {
     "base_uri": "https://localhost:8080/",
     "height": 767,
     "output_embedded_package_id": "1Mq2eYqDifdCkOEdIHWBoRJ0DlqDp8vnw"
    },
    "executionInfo": {
     "elapsed": 4595,
     "status": "ok",
     "timestamp": 1713955324161,
     "user": {
      "displayName": "Maarten Grootendorst",
      "userId": "11015108362723620659"
     },
     "user_tz": -120
    },
    "id": "rR6UXe1t5H8_",
    "outputId": "f3964771-fb30-440a-d646-302b587c2d86"
   },
   "outputs": [],
   "source": [
    "## Visualize topics and documents\n",
    "## NOTE: THIS WORKS ON GOOGLE COLAB BUT NOT ON RUNPOD...\n",
    "fig = topic_model.visualize_documents(\n",
    "    titles,\n",
    "    reduced_embeddings=reduced_embeddings_2,\n",
    "    width=1200,\n",
    "    hide_annotations=True\n",
    ")\n",
    "\n",
    "# Update fonts of legend for easier visualization\n",
    "fig.update_layout(font=dict(size=16))"
   ]
  },
  {
   "cell_type": "markdown",
   "metadata": {
    "id": "_-8h5SnZmLe5"
   },
   "source": [
    "## **Part 2, Step 2: Using Generative AI to create topic labels**"
   ]
  },
  {
   "cell_type": "markdown",
   "metadata": {
    "id": "yY6hAIvOo9zT"
   },
   "source": [
    "Now that we have the keywords, we'll add a Decoder-Only LLM, or Generative AI, to the **BERTopic** framework to create labels. However, \n",
    "first, we will duplicate our original topic model to easily compare the original keywords with the new labels."
   ]
  },
  {
   "cell_type": "code",
   "execution_count": null,
   "metadata": {
    "id": "usLIeMFbqM7y"
   },
   "outputs": [],
   "source": [
    "# Save original representations\n",
    "from copy import deepcopy\n",
    "original_topics = deepcopy(topic_model.topic_representations_)"
   ]
  },
  {
   "cell_type": "markdown",
   "metadata": {},
   "source": [
    "We'll also create a helper function `compare_topics` that shows the original and the new topics."
   ]
  },
  {
   "cell_type": "code",
   "execution_count": null,
   "metadata": {
    "id": "3dYLwbyEoeag"
   },
   "outputs": [],
   "source": [
    "def topics_vs_labels(original_topics, model, nr_topics=5):\n",
    "    \"\"\"Show the differences in topics and the new labels\"\"\"\n",
    "    df = pd.DataFrame(columns=[\"Topic ID\", \"Original Topics\", \"New Labels\"])\n",
    "    for topic in range(nr_topics):\n",
    "\n",
    "        # Extract top 5 words from the original topic\n",
    "        og_words = \" | \".join(list(zip(*original_topics[topic]))[0][:5])\n",
    "        new_words = model.get_topic(topic)[0][0]\n",
    "        df.loc[len(df)] = [topic, og_words, new_words]\n",
    "\n",
    "    return df"
   ]
  },
  {
   "cell_type": "markdown",
   "metadata": {},
   "source": [
    "Now that we have the helper function, we'll generate labels from the keywords and abstracts using the **flan-t5-small** Decoder-Only LLM for Generative AI."
   ]
  },
  {
   "cell_type": "code",
   "execution_count": null,
   "metadata": {
    "colab": {
     "base_uri": "https://localhost:8080/",
     "height": 448,
     "referenced_widgets": [
      "e828d529dfca42abaea5e11d351bc263",
      "1ffeeead973a43d1a69cd4db3a6e1fe0",
      "a9ce4b28fdcd4a129742ddaf2cc5ed3e",
      "d36fabd5360d4db0a95fd38e39c556fd",
      "3d5ace4e3dff40d7887cc5d627f412f1",
      "08e990c55fe6440999bfe35e7076df04",
      "b3988ae1e5084c13900200287d366468",
      "2bd761c7c0c44b2899c3049a0e514342",
      "2587d09e03e141e98e76b783eb40dd53",
      "dbf6fc98e363470982154ad5e8d491ec",
      "c5a392a10e3d4940887869effa8ce87e",
      "e77fd60d7cfe444086e0f4c1e13fe872",
      "47d5cb87c80847eba31a238cc8ecb3c0",
      "e1ee198bf35e45e2a627610464e951fd",
      "d2e5d0a7024f4b17b3e3ea75542c1314",
      "bdcb59a969e942e88e8ca33c5307db06",
      "63f62ba934d347d9841b40e206b475d9",
      "1cc1d64a932c43c4b4bcf9cbcdfe9786",
      "97288f9a9d0b42b3b0040fa054082337",
      "f86cacc871e3485da0cac588c8b6ae24",
      "8198d008574f49558b0633c6db4e8bdc",
      "58a1dbbc903947eb8a2d836599fa5da7",
      "67eb5e43728e4587b352f875333299ce",
      "45681b510d65408cb1df805672bec26c",
      "b1a5bb0da1e74791b30da583c4b02f8d",
      "453ebf55995c4d24935c56188e516a20",
      "1355d5e0b3b94e03b0fa721fcb79005b",
      "498805684105443095adb28509ce3e22",
      "5344d9c5bfa94e089d62c160a17b0646",
      "f8ad5cef5b3e4507a426899aa41072c4",
      "5311286e67c74bb78ede05ae51ec87b3",
      "9c6dde93000d4e3d9f8205635e493c57",
      "1c88039327cc44ea933fdf182ce5bd02",
      "d5a523c75f044d759760af77b0fe2ad3",
      "5cafec2a71194cec914741dbe8b3083a",
      "0203b4842d884c4a95f22148a95268ba",
      "9dc50ffb6fda42339abeda6a640ef50e",
      "bd50fcd718c5456598c4ee6853677835",
      "278d00880c18472fb06720a8f398e1bb",
      "2352127df6ec4ada9afea952c39e3ba3",
      "01441e4441fd4cf8b341603e5fb931cb",
      "d2ecdaf719ef42f29f7e63549377364e",
      "609a90f5700947c68ee8ff64d7f42600",
      "4f9323cf392041eaa9ea810bbe1e6a39",
      "2be9c6cf4b434a46a4db0c0304f29390",
      "6fc8306b6ad64c239f781e824d22c2d6",
      "49e155bb2dd84f54a02998d5a364d226",
      "a39555fcfe6341ba9e039fe85ff4a8b6",
      "0a1f1cb7c84a44c7ba8a0e3ccb46b5b3",
      "bb18dbb52c1a440399f16ecdd0ae7cba",
      "49c02110e5364998bb298185b8b3c7d9",
      "f0015c06af5747c2841a555d1fe68d4f",
      "56f06e72f2e14e329cbf42960922af2e",
      "f8cd368460f74a439296d7ed3ab02091",
      "6c346f5856df486c9171a4daa398751e",
      "3f7a543bbca740d58cfed6bc0f7bb938",
      "2c066184dc8849378da92e8c549bb729",
      "93fed86b1a8a4d348a8d7eca64d36e21",
      "4018674e3e744836bd4dae59a7071931",
      "0d4bd89bb2c848afad74249ed097f4e1",
      "c2e3689ccbde4ccf88609498723b02af",
      "6ffaba639fa842fd9fe9570308bd95a5",
      "a966eb29912345d38306b51a1d4413b3",
      "5b02bd09345a477d884282853a152ffb",
      "39fbf1ab519148e1987be5775b2629e7",
      "4c0a5849d92b471e8257f04d6e512364",
      "ec7dbf66134e4171a83817f1b046d91b",
      "e804f01b4384400d8ff8dfb77e43819f",
      "9719d0fe800340bca18f83c5f9b54b5c",
      "7397bdbfd89a494bbe5a9196cadadd64",
      "2aec8e14d0ce462ab22650dbf729f6c2",
      "bc2f09fcd4f5475eb8d01dce50a57c27",
      "534a8c1bfe2e46b481588e7b3eef7eb6",
      "a542af6cedee423691a4208e4edb8991",
      "d99506f6425245b984fc064323ef6eae",
      "91e4c0f446c54f9db4094b6978170dc1",
      "61b974c4138f4f32b5152a299b525d7a"
     ]
    },
    "executionInfo": {
     "elapsed": 107684,
     "status": "ok",
     "timestamp": 1713955499199,
     "user": {
      "displayName": "Maarten Grootendorst",
      "userId": "11015108362723620659"
     },
     "user_tz": -120
    },
    "id": "4yisDTfcIrbq",
    "outputId": "bf62bf70-280a-47c3-f7b0-47cc564768f4"
   },
   "outputs": [],
   "source": [
    "from transformers import pipeline\n",
    "from bertopic.representation import TextGeneration\n",
    "\n",
    "prompt = \"\"\"I have a topic that contains the following documents:\n",
    "[DOCUMENTS]\n",
    "\n",
    "The topic is described by the following keywords: '[KEYWORDS]'.\n",
    "\n",
    "Based on the documents and keywords, what is this topic about?\"\"\"\n",
    "\n",
    "# Update our topic representations using Flan-T5\n",
    "generator = pipeline('text2text-generation', model='google/flan-t5-small', device=0)\n",
    "representation_model = TextGeneration(\n",
    "    generator, prompt=prompt, doc_length=50, tokenizer=\"whitespace\"\n",
    ")\n",
    "topic_model.update_topics(abstracts, representation_model=representation_model)"
   ]
  },
  {
   "cell_type": "markdown",
   "metadata": {},
   "source": [
    "Now, let's compare the original keywords to the new labels..."
   ]
  },
  {
   "cell_type": "code",
   "execution_count": null,
   "metadata": {
    "colab": {
     "base_uri": "https://localhost:8080/",
     "height": 448,
     "referenced_widgets": [
      "e828d529dfca42abaea5e11d351bc263",
      "1ffeeead973a43d1a69cd4db3a6e1fe0",
      "a9ce4b28fdcd4a129742ddaf2cc5ed3e",
      "d36fabd5360d4db0a95fd38e39c556fd",
      "3d5ace4e3dff40d7887cc5d627f412f1",
      "08e990c55fe6440999bfe35e7076df04",
      "b3988ae1e5084c13900200287d366468",
      "2bd761c7c0c44b2899c3049a0e514342",
      "2587d09e03e141e98e76b783eb40dd53",
      "dbf6fc98e363470982154ad5e8d491ec",
      "c5a392a10e3d4940887869effa8ce87e",
      "e77fd60d7cfe444086e0f4c1e13fe872",
      "47d5cb87c80847eba31a238cc8ecb3c0",
      "e1ee198bf35e45e2a627610464e951fd",
      "d2e5d0a7024f4b17b3e3ea75542c1314",
      "bdcb59a969e942e88e8ca33c5307db06",
      "63f62ba934d347d9841b40e206b475d9",
      "1cc1d64a932c43c4b4bcf9cbcdfe9786",
      "97288f9a9d0b42b3b0040fa054082337",
      "f86cacc871e3485da0cac588c8b6ae24",
      "8198d008574f49558b0633c6db4e8bdc",
      "58a1dbbc903947eb8a2d836599fa5da7",
      "67eb5e43728e4587b352f875333299ce",
      "45681b510d65408cb1df805672bec26c",
      "b1a5bb0da1e74791b30da583c4b02f8d",
      "453ebf55995c4d24935c56188e516a20",
      "1355d5e0b3b94e03b0fa721fcb79005b",
      "498805684105443095adb28509ce3e22",
      "5344d9c5bfa94e089d62c160a17b0646",
      "f8ad5cef5b3e4507a426899aa41072c4",
      "5311286e67c74bb78ede05ae51ec87b3",
      "9c6dde93000d4e3d9f8205635e493c57",
      "1c88039327cc44ea933fdf182ce5bd02",
      "d5a523c75f044d759760af77b0fe2ad3",
      "5cafec2a71194cec914741dbe8b3083a",
      "0203b4842d884c4a95f22148a95268ba",
      "9dc50ffb6fda42339abeda6a640ef50e",
      "bd50fcd718c5456598c4ee6853677835",
      "278d00880c18472fb06720a8f398e1bb",
      "2352127df6ec4ada9afea952c39e3ba3",
      "01441e4441fd4cf8b341603e5fb931cb",
      "d2ecdaf719ef42f29f7e63549377364e",
      "609a90f5700947c68ee8ff64d7f42600",
      "4f9323cf392041eaa9ea810bbe1e6a39",
      "2be9c6cf4b434a46a4db0c0304f29390",
      "6fc8306b6ad64c239f781e824d22c2d6",
      "49e155bb2dd84f54a02998d5a364d226",
      "a39555fcfe6341ba9e039fe85ff4a8b6",
      "0a1f1cb7c84a44c7ba8a0e3ccb46b5b3",
      "bb18dbb52c1a440399f16ecdd0ae7cba",
      "49c02110e5364998bb298185b8b3c7d9",
      "f0015c06af5747c2841a555d1fe68d4f",
      "56f06e72f2e14e329cbf42960922af2e",
      "f8cd368460f74a439296d7ed3ab02091",
      "6c346f5856df486c9171a4daa398751e",
      "3f7a543bbca740d58cfed6bc0f7bb938",
      "2c066184dc8849378da92e8c549bb729",
      "93fed86b1a8a4d348a8d7eca64d36e21",
      "4018674e3e744836bd4dae59a7071931",
      "0d4bd89bb2c848afad74249ed097f4e1",
      "c2e3689ccbde4ccf88609498723b02af",
      "6ffaba639fa842fd9fe9570308bd95a5",
      "a966eb29912345d38306b51a1d4413b3",
      "5b02bd09345a477d884282853a152ffb",
      "39fbf1ab519148e1987be5775b2629e7",
      "4c0a5849d92b471e8257f04d6e512364",
      "ec7dbf66134e4171a83817f1b046d91b",
      "e804f01b4384400d8ff8dfb77e43819f",
      "9719d0fe800340bca18f83c5f9b54b5c",
      "7397bdbfd89a494bbe5a9196cadadd64",
      "2aec8e14d0ce462ab22650dbf729f6c2",
      "bc2f09fcd4f5475eb8d01dce50a57c27",
      "534a8c1bfe2e46b481588e7b3eef7eb6",
      "a542af6cedee423691a4208e4edb8991",
      "d99506f6425245b984fc064323ef6eae",
      "91e4c0f446c54f9db4094b6978170dc1",
      "61b974c4138f4f32b5152a299b525d7a"
     ]
    },
    "executionInfo": {
     "elapsed": 107684,
     "status": "ok",
     "timestamp": 1713955499199,
     "user": {
      "displayName": "Maarten Grootendorst",
      "userId": "11015108362723620659"
     },
     "user_tz": -120
    },
    "id": "4yisDTfcIrbq",
    "outputId": "bf62bf70-280a-47c3-f7b0-47cc564768f4"
   },
   "outputs": [],
   "source": [
    "# compare the original topics with the new labels\n",
    "topics_vs_labels(original_topics, topic_model)"
   ]
  },
  {
   "cell_type": "markdown",
   "metadata": {},
   "source": [
    "Now, it's probably subjective, but to me, the new labels do a good job capturing the essence of the keywords. So I say **BAM!**"
   ]
  },
  {
   "cell_type": "markdown",
   "metadata": {},
   "source": [
    "### **Draw an awesome 2-D graph of the documents with the new labels**\n",
    "\n",
    "Now that we have labels for each cluster, let's draw a very cool looking graph that shows the document clusters with the new labels. This still uses the **BERTopic** framework that we've been working with, which uses the `datamapplot` module to draw the graph."
   ]
  },
  {
   "cell_type": "code",
   "execution_count": null,
   "metadata": {
    "colab": {
     "base_uri": "https://localhost:8080/",
     "height": 1000
    },
    "executionInfo": {
     "elapsed": 19102,
     "status": "ok",
     "timestamp": 1713965080448,
     "user": {
      "displayName": "Maarten Grootendorst",
      "userId": "11015108362723620659"
     },
     "user_tz": -120
    },
    "id": "36c3UUvXZ8L-",
    "outputId": "2236e530-0e1c-49de-a98b-0a9bbebdba15"
   },
   "outputs": [],
   "source": [
    "# Visualize documents with labeled topics\n",
    "fig = topic_model.visualize_document_datamap(\n",
    "    titles,\n",
    "    topics=list(range(20)),\n",
    "    reduced_embeddings=reduced_embeddings_2,\n",
    "    width=1200,\n",
    "    label_font_size=11,\n",
    "    label_wrap_width=20,\n",
    "    use_medoids=True,\n",
    ")\n",
    "plt.savefig(\"datamapplot.png\", dpi=300)"
   ]
  },
  {
   "cell_type": "markdown",
   "metadata": {},
   "source": [
    "What a cool looking graph! And its got awesome easy to understand labels!!\n",
    "\n",
    "# **TRIPLE BAM!!!** "
   ]
  },
  {
   "cell_type": "markdown",
   "metadata": {
    "id": "fj9Z47wkxTzl"
   },
   "source": [
    "\n",
    "## **BONUS**: WordCloud\n",
    "\n"
   ]
  },
  {
   "cell_type": "markdown",
   "metadata": {
    "id": "zdq9LzkxzxzT"
   },
   "source": [
    "First, we need to ensure that each topic is described by a bit more words than just 10, as that would make for a much more interesting WordCloud."
   ]
  },
  {
   "cell_type": "code",
   "execution_count": null,
   "metadata": {
    "id": "qT2IKjyfxkkV"
   },
   "outputs": [],
   "source": [
    "topic_model.update_topics(abstracts, top_n_words=500)"
   ]
  },
  {
   "cell_type": "markdown",
   "metadata": {
    "id": "L3NIkt0Hz4AJ"
   },
   "source": [
    "Then, we can run the following code to generate the WordCloud for our topic modeling topic:"
   ]
  },
  {
   "cell_type": "code",
   "execution_count": null,
   "metadata": {
    "colab": {
     "base_uri": "https://localhost:8080/",
     "height": 422
    },
    "executionInfo": {
     "elapsed": 9354,
     "status": "ok",
     "timestamp": 1680586974170,
     "user": {
      "displayName": "Maarten Grootendorst",
      "userId": "11015108362723620659"
     },
     "user_tz": -120
    },
    "id": "YFSNG30jxWGo",
    "outputId": "2eca5376-4938-46be-d656-f7907617944f"
   },
   "outputs": [],
   "source": [
    "from wordcloud import WordCloud\n",
    "import matplotlib.pyplot as plt\n",
    "\n",
    "def create_wordcloud(model, topic):\n",
    "    plt.figure(figsize=(10,5))\n",
    "    text = {word: value for word, value in model.get_topic(topic)}\n",
    "    wc = WordCloud(background_color=\"white\", max_words=1000, width=1600, height=800)\n",
    "    wc.generate_from_frequencies(text)\n",
    "    plt.imshow(wc, interpolation=\"bilinear\")\n",
    "    plt.axis(\"off\")\n",
    "    plt.show()\n",
    "\n",
    "# Show wordcloud\n",
    "create_wordcloud(topic_model, topic=17)"
   ]
  }
 ],
 "metadata": {
  "accelerator": "GPU",
  "colab": {
   "authorship_tag": "ABX9TyOWn0RHH3eY/i6Rv6ohhJlD",
   "gpuType": "T4",
   "provenance": [],
   "toc_visible": true
  },
  "gpuClass": "standard",
  "kernelspec": {
   "display_name": "TripleBAM",
   "language": "python",
   "name": "python3"
  },
  "language_info": {
   "codemirror_mode": {
    "name": "ipython",
    "version": 3
   },
   "file_extension": ".py",
   "mimetype": "text/x-python",
   "name": "python",
   "nbconvert_exporter": "python",
   "pygments_lexer": "ipython3",
   "version": "3.12.8"
  },
  "widgets": {
   "application/vnd.jupyter.widget-state+json": {
    "01441e4441fd4cf8b341603e5fb931cb": {
     "model_module": "@jupyter-widgets/base",
     "model_module_version": "1.2.0",
     "model_name": "LayoutModel",
     "state": {
      "_model_module": "@jupyter-widgets/base",
      "_model_module_version": "1.2.0",
      "_model_name": "LayoutModel",
      "_view_count": null,
      "_view_module": "@jupyter-widgets/base",
      "_view_module_version": "1.2.0",
      "_view_name": "LayoutView",
      "align_content": null,
      "align_items": null,
      "align_self": null,
      "border": null,
      "bottom": null,
      "display": null,
      "flex": null,
      "flex_flow": null,
      "grid_area": null,
      "grid_auto_columns": null,
      "grid_auto_flow": null,
      "grid_auto_rows": null,
      "grid_column": null,
      "grid_gap": null,
      "grid_row": null,
      "grid_template_areas": null,
      "grid_template_columns": null,
      "grid_template_rows": null,
      "height": null,
      "justify_content": null,
      "justify_items": null,
      "left": null,
      "margin": null,
      "max_height": null,
      "max_width": null,
      "min_height": null,
      "min_width": null,
      "object_fit": null,
      "object_position": null,
      "order": null,
      "overflow": null,
      "overflow_x": null,
      "overflow_y": null,
      "padding": null,
      "right": null,
      "top": null,
      "visibility": null,
      "width": null
     }
    },
    "0203b4842d884c4a95f22148a95268ba": {
     "model_module": "@jupyter-widgets/controls",
     "model_module_version": "1.5.0",
     "model_name": "FloatProgressModel",
     "state": {
      "_dom_classes": [],
      "_model_module": "@jupyter-widgets/controls",
      "_model_module_version": "1.5.0",
      "_model_name": "FloatProgressModel",
      "_view_count": null,
      "_view_module": "@jupyter-widgets/controls",
      "_view_module_version": "1.5.0",
      "_view_name": "ProgressView",
      "bar_style": "success",
      "description": "",
      "description_tooltip": null,
      "layout": "IPY_MODEL_01441e4441fd4cf8b341603e5fb931cb",
      "max": 2539,
      "min": 0,
      "orientation": "horizontal",
      "style": "IPY_MODEL_d2ecdaf719ef42f29f7e63549377364e",
      "value": 2539
     }
    },
    "08e990c55fe6440999bfe35e7076df04": {
     "model_module": "@jupyter-widgets/base",
     "model_module_version": "1.2.0",
     "model_name": "LayoutModel",
     "state": {
      "_model_module": "@jupyter-widgets/base",
      "_model_module_version": "1.2.0",
      "_model_name": "LayoutModel",
      "_view_count": null,
      "_view_module": "@jupyter-widgets/base",
      "_view_module_version": "1.2.0",
      "_view_name": "LayoutView",
      "align_content": null,
      "align_items": null,
      "align_self": null,
      "border": null,
      "bottom": null,
      "display": null,
      "flex": null,
      "flex_flow": null,
      "grid_area": null,
      "grid_auto_columns": null,
      "grid_auto_flow": null,
      "grid_auto_rows": null,
      "grid_column": null,
      "grid_gap": null,
      "grid_row": null,
      "grid_template_areas": null,
      "grid_template_columns": null,
      "grid_template_rows": null,
      "height": null,
      "justify_content": null,
      "justify_items": null,
      "left": null,
      "margin": null,
      "max_height": null,
      "max_width": null,
      "min_height": null,
      "min_width": null,
      "object_fit": null,
      "object_position": null,
      "order": null,
      "overflow": null,
      "overflow_x": null,
      "overflow_y": null,
      "padding": null,
      "right": null,
      "top": null,
      "visibility": null,
      "width": null
     }
    },
    "0a1f1cb7c84a44c7ba8a0e3ccb46b5b3": {
     "model_module": "@jupyter-widgets/base",
     "model_module_version": "1.2.0",
     "model_name": "LayoutModel",
     "state": {
      "_model_module": "@jupyter-widgets/base",
      "_model_module_version": "1.2.0",
      "_model_name": "LayoutModel",
      "_view_count": null,
      "_view_module": "@jupyter-widgets/base",
      "_view_module_version": "1.2.0",
      "_view_name": "LayoutView",
      "align_content": null,
      "align_items": null,
      "align_self": null,
      "border": null,
      "bottom": null,
      "display": null,
      "flex": null,
      "flex_flow": null,
      "grid_area": null,
      "grid_auto_columns": null,
      "grid_auto_flow": null,
      "grid_auto_rows": null,
      "grid_column": null,
      "grid_gap": null,
      "grid_row": null,
      "grid_template_areas": null,
      "grid_template_columns": null,
      "grid_template_rows": null,
      "height": null,
      "justify_content": null,
      "justify_items": null,
      "left": null,
      "margin": null,
      "max_height": null,
      "max_width": null,
      "min_height": null,
      "min_width": null,
      "object_fit": null,
      "object_position": null,
      "order": null,
      "overflow": null,
      "overflow_x": null,
      "overflow_y": null,
      "padding": null,
      "right": null,
      "top": null,
      "visibility": null,
      "width": null
     }
    },
    "0d4bd89bb2c848afad74249ed097f4e1": {
     "model_module": "@jupyter-widgets/base",
     "model_module_version": "1.2.0",
     "model_name": "LayoutModel",
     "state": {
      "_model_module": "@jupyter-widgets/base",
      "_model_module_version": "1.2.0",
      "_model_name": "LayoutModel",
      "_view_count": null,
      "_view_module": "@jupyter-widgets/base",
      "_view_module_version": "1.2.0",
      "_view_name": "LayoutView",
      "align_content": null,
      "align_items": null,
      "align_self": null,
      "border": null,
      "bottom": null,
      "display": null,
      "flex": null,
      "flex_flow": null,
      "grid_area": null,
      "grid_auto_columns": null,
      "grid_auto_flow": null,
      "grid_auto_rows": null,
      "grid_column": null,
      "grid_gap": null,
      "grid_row": null,
      "grid_template_areas": null,
      "grid_template_columns": null,
      "grid_template_rows": null,
      "height": null,
      "justify_content": null,
      "justify_items": null,
      "left": null,
      "margin": null,
      "max_height": null,
      "max_width": null,
      "min_height": null,
      "min_width": null,
      "object_fit": null,
      "object_position": null,
      "order": null,
      "overflow": null,
      "overflow_x": null,
      "overflow_y": null,
      "padding": null,
      "right": null,
      "top": null,
      "visibility": null,
      "width": null
     }
    },
    "1355d5e0b3b94e03b0fa721fcb79005b": {
     "model_module": "@jupyter-widgets/base",
     "model_module_version": "1.2.0",
     "model_name": "LayoutModel",
     "state": {
      "_model_module": "@jupyter-widgets/base",
      "_model_module_version": "1.2.0",
      "_model_name": "LayoutModel",
      "_view_count": null,
      "_view_module": "@jupyter-widgets/base",
      "_view_module_version": "1.2.0",
      "_view_name": "LayoutView",
      "align_content": null,
      "align_items": null,
      "align_self": null,
      "border": null,
      "bottom": null,
      "display": null,
      "flex": null,
      "flex_flow": null,
      "grid_area": null,
      "grid_auto_columns": null,
      "grid_auto_flow": null,
      "grid_auto_rows": null,
      "grid_column": null,
      "grid_gap": null,
      "grid_row": null,
      "grid_template_areas": null,
      "grid_template_columns": null,
      "grid_template_rows": null,
      "height": null,
      "justify_content": null,
      "justify_items": null,
      "left": null,
      "margin": null,
      "max_height": null,
      "max_width": null,
      "min_height": null,
      "min_width": null,
      "object_fit": null,
      "object_position": null,
      "order": null,
      "overflow": null,
      "overflow_x": null,
      "overflow_y": null,
      "padding": null,
      "right": null,
      "top": null,
      "visibility": null,
      "width": null
     }
    },
    "13c85fbfa9e44714a2d9400fb6c21396": {
     "model_module": "@jupyter-widgets/base",
     "model_module_version": "1.2.0",
     "model_name": "LayoutModel",
     "state": {
      "_model_module": "@jupyter-widgets/base",
      "_model_module_version": "1.2.0",
      "_model_name": "LayoutModel",
      "_view_count": null,
      "_view_module": "@jupyter-widgets/base",
      "_view_module_version": "1.2.0",
      "_view_name": "LayoutView",
      "align_content": null,
      "align_items": null,
      "align_self": null,
      "border": null,
      "bottom": null,
      "display": null,
      "flex": null,
      "flex_flow": null,
      "grid_area": null,
      "grid_auto_columns": null,
      "grid_auto_flow": null,
      "grid_auto_rows": null,
      "grid_column": null,
      "grid_gap": null,
      "grid_row": null,
      "grid_template_areas": null,
      "grid_template_columns": null,
      "grid_template_rows": null,
      "height": null,
      "justify_content": null,
      "justify_items": null,
      "left": null,
      "margin": null,
      "max_height": null,
      "max_width": null,
      "min_height": null,
      "min_width": null,
      "object_fit": null,
      "object_position": null,
      "order": null,
      "overflow": null,
      "overflow_x": null,
      "overflow_y": null,
      "padding": null,
      "right": null,
      "top": null,
      "visibility": null,
      "width": null
     }
    },
    "18e03962f36049e2869ea5f7dbda3973": {
     "model_module": "@jupyter-widgets/controls",
     "model_module_version": "1.5.0",
     "model_name": "HBoxModel",
     "state": {
      "_dom_classes": [],
      "_model_module": "@jupyter-widgets/controls",
      "_model_module_version": "1.5.0",
      "_model_name": "HBoxModel",
      "_view_count": null,
      "_view_module": "@jupyter-widgets/controls",
      "_view_module_version": "1.5.0",
      "_view_name": "HBoxView",
      "box_style": "",
      "children": [
       "IPY_MODEL_5478cef31f6c4df89f37ab9619672b94",
       "IPY_MODEL_89655f0c32194549a5b6f910a806d64b",
       "IPY_MODEL_82bb3afe96b84887b6dec2836e346707"
      ],
      "layout": "IPY_MODEL_9977f43a9e514adda488325cb2eafa2e"
     }
    },
    "1c88039327cc44ea933fdf182ce5bd02": {
     "model_module": "@jupyter-widgets/controls",
     "model_module_version": "1.5.0",
     "model_name": "DescriptionStyleModel",
     "state": {
      "_model_module": "@jupyter-widgets/controls",
      "_model_module_version": "1.5.0",
      "_model_name": "DescriptionStyleModel",
      "_view_count": null,
      "_view_module": "@jupyter-widgets/base",
      "_view_module_version": "1.2.0",
      "_view_name": "StyleView",
      "description_width": ""
     }
    },
    "1cc1d64a932c43c4b4bcf9cbcdfe9786": {
     "model_module": "@jupyter-widgets/controls",
     "model_module_version": "1.5.0",
     "model_name": "DescriptionStyleModel",
     "state": {
      "_model_module": "@jupyter-widgets/controls",
      "_model_module_version": "1.5.0",
      "_model_name": "DescriptionStyleModel",
      "_view_count": null,
      "_view_module": "@jupyter-widgets/base",
      "_view_module_version": "1.2.0",
      "_view_name": "StyleView",
      "description_width": ""
     }
    },
    "1e474f19cfb44eee8f08193e70542313": {
     "model_module": "@jupyter-widgets/base",
     "model_module_version": "1.2.0",
     "model_name": "LayoutModel",
     "state": {
      "_model_module": "@jupyter-widgets/base",
      "_model_module_version": "1.2.0",
      "_model_name": "LayoutModel",
      "_view_count": null,
      "_view_module": "@jupyter-widgets/base",
      "_view_module_version": "1.2.0",
      "_view_name": "LayoutView",
      "align_content": null,
      "align_items": null,
      "align_self": null,
      "border": null,
      "bottom": null,
      "display": null,
      "flex": null,
      "flex_flow": null,
      "grid_area": null,
      "grid_auto_columns": null,
      "grid_auto_flow": null,
      "grid_auto_rows": null,
      "grid_column": null,
      "grid_gap": null,
      "grid_row": null,
      "grid_template_areas": null,
      "grid_template_columns": null,
      "grid_template_rows": null,
      "height": null,
      "justify_content": null,
      "justify_items": null,
      "left": null,
      "margin": null,
      "max_height": null,
      "max_width": null,
      "min_height": null,
      "min_width": null,
      "object_fit": null,
      "object_position": null,
      "order": null,
      "overflow": null,
      "overflow_x": null,
      "overflow_y": null,
      "padding": null,
      "right": null,
      "top": null,
      "visibility": null,
      "width": null
     }
    },
    "1ffeeead973a43d1a69cd4db3a6e1fe0": {
     "model_module": "@jupyter-widgets/controls",
     "model_module_version": "1.5.0",
     "model_name": "HTMLModel",
     "state": {
      "_dom_classes": [],
      "_model_module": "@jupyter-widgets/controls",
      "_model_module_version": "1.5.0",
      "_model_name": "HTMLModel",
      "_view_count": null,
      "_view_module": "@jupyter-widgets/controls",
      "_view_module_version": "1.5.0",
      "_view_name": "HTMLView",
      "description": "",
      "description_tooltip": null,
      "layout": "IPY_MODEL_08e990c55fe6440999bfe35e7076df04",
      "placeholder": "​",
      "style": "IPY_MODEL_b3988ae1e5084c13900200287d366468",
      "value": "config.json: 100%"
     }
    },
    "2352127df6ec4ada9afea952c39e3ba3": {
     "model_module": "@jupyter-widgets/controls",
     "model_module_version": "1.5.0",
     "model_name": "DescriptionStyleModel",
     "state": {
      "_model_module": "@jupyter-widgets/controls",
      "_model_module_version": "1.5.0",
      "_model_name": "DescriptionStyleModel",
      "_view_count": null,
      "_view_module": "@jupyter-widgets/base",
      "_view_module_version": "1.2.0",
      "_view_name": "StyleView",
      "description_width": ""
     }
    },
    "2587d09e03e141e98e76b783eb40dd53": {
     "model_module": "@jupyter-widgets/controls",
     "model_module_version": "1.5.0",
     "model_name": "ProgressStyleModel",
     "state": {
      "_model_module": "@jupyter-widgets/controls",
      "_model_module_version": "1.5.0",
      "_model_name": "ProgressStyleModel",
      "_view_count": null,
      "_view_module": "@jupyter-widgets/base",
      "_view_module_version": "1.2.0",
      "_view_name": "StyleView",
      "bar_color": null,
      "description_width": ""
     }
    },
    "278d00880c18472fb06720a8f398e1bb": {
     "model_module": "@jupyter-widgets/base",
     "model_module_version": "1.2.0",
     "model_name": "LayoutModel",
     "state": {
      "_model_module": "@jupyter-widgets/base",
      "_model_module_version": "1.2.0",
      "_model_name": "LayoutModel",
      "_view_count": null,
      "_view_module": "@jupyter-widgets/base",
      "_view_module_version": "1.2.0",
      "_view_name": "LayoutView",
      "align_content": null,
      "align_items": null,
      "align_self": null,
      "border": null,
      "bottom": null,
      "display": null,
      "flex": null,
      "flex_flow": null,
      "grid_area": null,
      "grid_auto_columns": null,
      "grid_auto_flow": null,
      "grid_auto_rows": null,
      "grid_column": null,
      "grid_gap": null,
      "grid_row": null,
      "grid_template_areas": null,
      "grid_template_columns": null,
      "grid_template_rows": null,
      "height": null,
      "justify_content": null,
      "justify_items": null,
      "left": null,
      "margin": null,
      "max_height": null,
      "max_width": null,
      "min_height": null,
      "min_width": null,
      "object_fit": null,
      "object_position": null,
      "order": null,
      "overflow": null,
      "overflow_x": null,
      "overflow_y": null,
      "padding": null,
      "right": null,
      "top": null,
      "visibility": null,
      "width": null
     }
    },
    "2aec8e14d0ce462ab22650dbf729f6c2": {
     "model_module": "@jupyter-widgets/base",
     "model_module_version": "1.2.0",
     "model_name": "LayoutModel",
     "state": {
      "_model_module": "@jupyter-widgets/base",
      "_model_module_version": "1.2.0",
      "_model_name": "LayoutModel",
      "_view_count": null,
      "_view_module": "@jupyter-widgets/base",
      "_view_module_version": "1.2.0",
      "_view_name": "LayoutView",
      "align_content": null,
      "align_items": null,
      "align_self": null,
      "border": null,
      "bottom": null,
      "display": null,
      "flex": null,
      "flex_flow": null,
      "grid_area": null,
      "grid_auto_columns": null,
      "grid_auto_flow": null,
      "grid_auto_rows": null,
      "grid_column": null,
      "grid_gap": null,
      "grid_row": null,
      "grid_template_areas": null,
      "grid_template_columns": null,
      "grid_template_rows": null,
      "height": null,
      "justify_content": null,
      "justify_items": null,
      "left": null,
      "margin": null,
      "max_height": null,
      "max_width": null,
      "min_height": null,
      "min_width": null,
      "object_fit": null,
      "object_position": null,
      "order": null,
      "overflow": null,
      "overflow_x": null,
      "overflow_y": null,
      "padding": null,
      "right": null,
      "top": null,
      "visibility": null,
      "width": null
     }
    },
    "2bd761c7c0c44b2899c3049a0e514342": {
     "model_module": "@jupyter-widgets/base",
     "model_module_version": "1.2.0",
     "model_name": "LayoutModel",
     "state": {
      "_model_module": "@jupyter-widgets/base",
      "_model_module_version": "1.2.0",
      "_model_name": "LayoutModel",
      "_view_count": null,
      "_view_module": "@jupyter-widgets/base",
      "_view_module_version": "1.2.0",
      "_view_name": "LayoutView",
      "align_content": null,
      "align_items": null,
      "align_self": null,
      "border": null,
      "bottom": null,
      "display": null,
      "flex": null,
      "flex_flow": null,
      "grid_area": null,
      "grid_auto_columns": null,
      "grid_auto_flow": null,
      "grid_auto_rows": null,
      "grid_column": null,
      "grid_gap": null,
      "grid_row": null,
      "grid_template_areas": null,
      "grid_template_columns": null,
      "grid_template_rows": null,
      "height": null,
      "justify_content": null,
      "justify_items": null,
      "left": null,
      "margin": null,
      "max_height": null,
      "max_width": null,
      "min_height": null,
      "min_width": null,
      "object_fit": null,
      "object_position": null,
      "order": null,
      "overflow": null,
      "overflow_x": null,
      "overflow_y": null,
      "padding": null,
      "right": null,
      "top": null,
      "visibility": null,
      "width": null
     }
    },
    "2be9c6cf4b434a46a4db0c0304f29390": {
     "model_module": "@jupyter-widgets/controls",
     "model_module_version": "1.5.0",
     "model_name": "HBoxModel",
     "state": {
      "_dom_classes": [],
      "_model_module": "@jupyter-widgets/controls",
      "_model_module_version": "1.5.0",
      "_model_name": "HBoxModel",
      "_view_count": null,
      "_view_module": "@jupyter-widgets/controls",
      "_view_module_version": "1.5.0",
      "_view_name": "HBoxView",
      "box_style": "",
      "children": [
       "IPY_MODEL_6fc8306b6ad64c239f781e824d22c2d6",
       "IPY_MODEL_49e155bb2dd84f54a02998d5a364d226",
       "IPY_MODEL_a39555fcfe6341ba9e039fe85ff4a8b6"
      ],
      "layout": "IPY_MODEL_0a1f1cb7c84a44c7ba8a0e3ccb46b5b3"
     }
    },
    "2c066184dc8849378da92e8c549bb729": {
     "model_module": "@jupyter-widgets/controls",
     "model_module_version": "1.5.0",
     "model_name": "HTMLModel",
     "state": {
      "_dom_classes": [],
      "_model_module": "@jupyter-widgets/controls",
      "_model_module_version": "1.5.0",
      "_model_name": "HTMLModel",
      "_view_count": null,
      "_view_module": "@jupyter-widgets/controls",
      "_view_module_version": "1.5.0",
      "_view_name": "HTMLView",
      "description": "",
      "description_tooltip": null,
      "layout": "IPY_MODEL_c2e3689ccbde4ccf88609498723b02af",
      "placeholder": "​",
      "style": "IPY_MODEL_6ffaba639fa842fd9fe9570308bd95a5",
      "value": "tokenizer.json: 100%"
     }
    },
    "39fbf1ab519148e1987be5775b2629e7": {
     "model_module": "@jupyter-widgets/base",
     "model_module_version": "1.2.0",
     "model_name": "LayoutModel",
     "state": {
      "_model_module": "@jupyter-widgets/base",
      "_model_module_version": "1.2.0",
      "_model_name": "LayoutModel",
      "_view_count": null,
      "_view_module": "@jupyter-widgets/base",
      "_view_module_version": "1.2.0",
      "_view_name": "LayoutView",
      "align_content": null,
      "align_items": null,
      "align_self": null,
      "border": null,
      "bottom": null,
      "display": null,
      "flex": null,
      "flex_flow": null,
      "grid_area": null,
      "grid_auto_columns": null,
      "grid_auto_flow": null,
      "grid_auto_rows": null,
      "grid_column": null,
      "grid_gap": null,
      "grid_row": null,
      "grid_template_areas": null,
      "grid_template_columns": null,
      "grid_template_rows": null,
      "height": null,
      "justify_content": null,
      "justify_items": null,
      "left": null,
      "margin": null,
      "max_height": null,
      "max_width": null,
      "min_height": null,
      "min_width": null,
      "object_fit": null,
      "object_position": null,
      "order": null,
      "overflow": null,
      "overflow_x": null,
      "overflow_y": null,
      "padding": null,
      "right": null,
      "top": null,
      "visibility": null,
      "width": null
     }
    },
    "3b9fce1566c5461b82a2931087dfe096": {
     "model_module": "@jupyter-widgets/controls",
     "model_module_version": "1.5.0",
     "model_name": "ProgressStyleModel",
     "state": {
      "_model_module": "@jupyter-widgets/controls",
      "_model_module_version": "1.5.0",
      "_model_name": "ProgressStyleModel",
      "_view_count": null,
      "_view_module": "@jupyter-widgets/base",
      "_view_module_version": "1.2.0",
      "_view_name": "StyleView",
      "bar_color": null,
      "description_width": ""
     }
    },
    "3d5ace4e3dff40d7887cc5d627f412f1": {
     "model_module": "@jupyter-widgets/base",
     "model_module_version": "1.2.0",
     "model_name": "LayoutModel",
     "state": {
      "_model_module": "@jupyter-widgets/base",
      "_model_module_version": "1.2.0",
      "_model_name": "LayoutModel",
      "_view_count": null,
      "_view_module": "@jupyter-widgets/base",
      "_view_module_version": "1.2.0",
      "_view_name": "LayoutView",
      "align_content": null,
      "align_items": null,
      "align_self": null,
      "border": null,
      "bottom": null,
      "display": null,
      "flex": null,
      "flex_flow": null,
      "grid_area": null,
      "grid_auto_columns": null,
      "grid_auto_flow": null,
      "grid_auto_rows": null,
      "grid_column": null,
      "grid_gap": null,
      "grid_row": null,
      "grid_template_areas": null,
      "grid_template_columns": null,
      "grid_template_rows": null,
      "height": null,
      "justify_content": null,
      "justify_items": null,
      "left": null,
      "margin": null,
      "max_height": null,
      "max_width": null,
      "min_height": null,
      "min_width": null,
      "object_fit": null,
      "object_position": null,
      "order": null,
      "overflow": null,
      "overflow_x": null,
      "overflow_y": null,
      "padding": null,
      "right": null,
      "top": null,
      "visibility": null,
      "width": null
     }
    },
    "3f7a543bbca740d58cfed6bc0f7bb938": {
     "model_module": "@jupyter-widgets/controls",
     "model_module_version": "1.5.0",
     "model_name": "HBoxModel",
     "state": {
      "_dom_classes": [],
      "_model_module": "@jupyter-widgets/controls",
      "_model_module_version": "1.5.0",
      "_model_name": "HBoxModel",
      "_view_count": null,
      "_view_module": "@jupyter-widgets/controls",
      "_view_module_version": "1.5.0",
      "_view_name": "HBoxView",
      "box_style": "",
      "children": [
       "IPY_MODEL_2c066184dc8849378da92e8c549bb729",
       "IPY_MODEL_93fed86b1a8a4d348a8d7eca64d36e21",
       "IPY_MODEL_4018674e3e744836bd4dae59a7071931"
      ],
      "layout": "IPY_MODEL_0d4bd89bb2c848afad74249ed097f4e1"
     }
    },
    "4018674e3e744836bd4dae59a7071931": {
     "model_module": "@jupyter-widgets/controls",
     "model_module_version": "1.5.0",
     "model_name": "HTMLModel",
     "state": {
      "_dom_classes": [],
      "_model_module": "@jupyter-widgets/controls",
      "_model_module_version": "1.5.0",
      "_model_name": "HTMLModel",
      "_view_count": null,
      "_view_module": "@jupyter-widgets/controls",
      "_view_module_version": "1.5.0",
      "_view_name": "HTMLView",
      "description": "",
      "description_tooltip": null,
      "layout": "IPY_MODEL_39fbf1ab519148e1987be5775b2629e7",
      "placeholder": "​",
      "style": "IPY_MODEL_4c0a5849d92b471e8257f04d6e512364",
      "value": " 2.42M/2.42M [00:00&lt;00:00, 27.8MB/s]"
     }
    },
    "44b60956730f45b0834c738b3ad83175": {
     "model_module": "@jupyter-widgets/base",
     "model_module_version": "1.2.0",
     "model_name": "LayoutModel",
     "state": {
      "_model_module": "@jupyter-widgets/base",
      "_model_module_version": "1.2.0",
      "_model_name": "LayoutModel",
      "_view_count": null,
      "_view_module": "@jupyter-widgets/base",
      "_view_module_version": "1.2.0",
      "_view_name": "LayoutView",
      "align_content": null,
      "align_items": null,
      "align_self": null,
      "border": null,
      "bottom": null,
      "display": null,
      "flex": null,
      "flex_flow": null,
      "grid_area": null,
      "grid_auto_columns": null,
      "grid_auto_flow": null,
      "grid_auto_rows": null,
      "grid_column": null,
      "grid_gap": null,
      "grid_row": null,
      "grid_template_areas": null,
      "grid_template_columns": null,
      "grid_template_rows": null,
      "height": null,
      "justify_content": null,
      "justify_items": null,
      "left": null,
      "margin": null,
      "max_height": null,
      "max_width": null,
      "min_height": null,
      "min_width": null,
      "object_fit": null,
      "object_position": null,
      "order": null,
      "overflow": null,
      "overflow_x": null,
      "overflow_y": null,
      "padding": null,
      "right": null,
      "top": null,
      "visibility": null,
      "width": null
     }
    },
    "453ebf55995c4d24935c56188e516a20": {
     "model_module": "@jupyter-widgets/controls",
     "model_module_version": "1.5.0",
     "model_name": "HTMLModel",
     "state": {
      "_dom_classes": [],
      "_model_module": "@jupyter-widgets/controls",
      "_model_module_version": "1.5.0",
      "_model_name": "HTMLModel",
      "_view_count": null,
      "_view_module": "@jupyter-widgets/controls",
      "_view_module_version": "1.5.0",
      "_view_name": "HTMLView",
      "description": "",
      "description_tooltip": null,
      "layout": "IPY_MODEL_9c6dde93000d4e3d9f8205635e493c57",
      "placeholder": "​",
      "style": "IPY_MODEL_1c88039327cc44ea933fdf182ce5bd02",
      "value": " 147/147 [00:00&lt;00:00, 10.0kB/s]"
     }
    },
    "45681b510d65408cb1df805672bec26c": {
     "model_module": "@jupyter-widgets/controls",
     "model_module_version": "1.5.0",
     "model_name": "HTMLModel",
     "state": {
      "_dom_classes": [],
      "_model_module": "@jupyter-widgets/controls",
      "_model_module_version": "1.5.0",
      "_model_name": "HTMLModel",
      "_view_count": null,
      "_view_module": "@jupyter-widgets/controls",
      "_view_module_version": "1.5.0",
      "_view_name": "HTMLView",
      "description": "",
      "description_tooltip": null,
      "layout": "IPY_MODEL_498805684105443095adb28509ce3e22",
      "placeholder": "​",
      "style": "IPY_MODEL_5344d9c5bfa94e089d62c160a17b0646",
      "value": "generation_config.json: 100%"
     }
    },
    "47d5cb87c80847eba31a238cc8ecb3c0": {
     "model_module": "@jupyter-widgets/controls",
     "model_module_version": "1.5.0",
     "model_name": "HTMLModel",
     "state": {
      "_dom_classes": [],
      "_model_module": "@jupyter-widgets/controls",
      "_model_module_version": "1.5.0",
      "_model_name": "HTMLModel",
      "_view_count": null,
      "_view_module": "@jupyter-widgets/controls",
      "_view_module_version": "1.5.0",
      "_view_name": "HTMLView",
      "description": "",
      "description_tooltip": null,
      "layout": "IPY_MODEL_63f62ba934d347d9841b40e206b475d9",
      "placeholder": "​",
      "style": "IPY_MODEL_1cc1d64a932c43c4b4bcf9cbcdfe9786",
      "value": "model.safetensors: 100%"
     }
    },
    "498805684105443095adb28509ce3e22": {
     "model_module": "@jupyter-widgets/base",
     "model_module_version": "1.2.0",
     "model_name": "LayoutModel",
     "state": {
      "_model_module": "@jupyter-widgets/base",
      "_model_module_version": "1.2.0",
      "_model_name": "LayoutModel",
      "_view_count": null,
      "_view_module": "@jupyter-widgets/base",
      "_view_module_version": "1.2.0",
      "_view_name": "LayoutView",
      "align_content": null,
      "align_items": null,
      "align_self": null,
      "border": null,
      "bottom": null,
      "display": null,
      "flex": null,
      "flex_flow": null,
      "grid_area": null,
      "grid_auto_columns": null,
      "grid_auto_flow": null,
      "grid_auto_rows": null,
      "grid_column": null,
      "grid_gap": null,
      "grid_row": null,
      "grid_template_areas": null,
      "grid_template_columns": null,
      "grid_template_rows": null,
      "height": null,
      "justify_content": null,
      "justify_items": null,
      "left": null,
      "margin": null,
      "max_height": null,
      "max_width": null,
      "min_height": null,
      "min_width": null,
      "object_fit": null,
      "object_position": null,
      "order": null,
      "overflow": null,
      "overflow_x": null,
      "overflow_y": null,
      "padding": null,
      "right": null,
      "top": null,
      "visibility": null,
      "width": null
     }
    },
    "49c02110e5364998bb298185b8b3c7d9": {
     "model_module": "@jupyter-widgets/controls",
     "model_module_version": "1.5.0",
     "model_name": "DescriptionStyleModel",
     "state": {
      "_model_module": "@jupyter-widgets/controls",
      "_model_module_version": "1.5.0",
      "_model_name": "DescriptionStyleModel",
      "_view_count": null,
      "_view_module": "@jupyter-widgets/base",
      "_view_module_version": "1.2.0",
      "_view_name": "StyleView",
      "description_width": ""
     }
    },
    "49e155bb2dd84f54a02998d5a364d226": {
     "model_module": "@jupyter-widgets/controls",
     "model_module_version": "1.5.0",
     "model_name": "FloatProgressModel",
     "state": {
      "_dom_classes": [],
      "_model_module": "@jupyter-widgets/controls",
      "_model_module_version": "1.5.0",
      "_model_name": "FloatProgressModel",
      "_view_count": null,
      "_view_module": "@jupyter-widgets/controls",
      "_view_module_version": "1.5.0",
      "_view_name": "ProgressView",
      "bar_style": "success",
      "description": "",
      "description_tooltip": null,
      "layout": "IPY_MODEL_f0015c06af5747c2841a555d1fe68d4f",
      "max": 791656,
      "min": 0,
      "orientation": "horizontal",
      "style": "IPY_MODEL_56f06e72f2e14e329cbf42960922af2e",
      "value": 791656
     }
    },
    "4ac21e7871f540df9b382a0d08d03141": {
     "model_module": "@jupyter-widgets/controls",
     "model_module_version": "1.5.0",
     "model_name": "DescriptionStyleModel",
     "state": {
      "_model_module": "@jupyter-widgets/controls",
      "_model_module_version": "1.5.0",
      "_model_name": "DescriptionStyleModel",
      "_view_count": null,
      "_view_module": "@jupyter-widgets/base",
      "_view_module_version": "1.2.0",
      "_view_name": "StyleView",
      "description_width": ""
     }
    },
    "4c0a5849d92b471e8257f04d6e512364": {
     "model_module": "@jupyter-widgets/controls",
     "model_module_version": "1.5.0",
     "model_name": "DescriptionStyleModel",
     "state": {
      "_model_module": "@jupyter-widgets/controls",
      "_model_module_version": "1.5.0",
      "_model_name": "DescriptionStyleModel",
      "_view_count": null,
      "_view_module": "@jupyter-widgets/base",
      "_view_module_version": "1.2.0",
      "_view_name": "StyleView",
      "description_width": ""
     }
    },
    "4ef0e581a3134a37b035b1cedcc67065": {
     "model_module": "@jupyter-widgets/controls",
     "model_module_version": "1.5.0",
     "model_name": "DescriptionStyleModel",
     "state": {
      "_model_module": "@jupyter-widgets/controls",
      "_model_module_version": "1.5.0",
      "_model_name": "DescriptionStyleModel",
      "_view_count": null,
      "_view_module": "@jupyter-widgets/base",
      "_view_module_version": "1.2.0",
      "_view_name": "StyleView",
      "description_width": ""
     }
    },
    "4f9323cf392041eaa9ea810bbe1e6a39": {
     "model_module": "@jupyter-widgets/controls",
     "model_module_version": "1.5.0",
     "model_name": "DescriptionStyleModel",
     "state": {
      "_model_module": "@jupyter-widgets/controls",
      "_model_module_version": "1.5.0",
      "_model_name": "DescriptionStyleModel",
      "_view_count": null,
      "_view_module": "@jupyter-widgets/base",
      "_view_module_version": "1.2.0",
      "_view_name": "StyleView",
      "description_width": ""
     }
    },
    "5311286e67c74bb78ede05ae51ec87b3": {
     "model_module": "@jupyter-widgets/controls",
     "model_module_version": "1.5.0",
     "model_name": "ProgressStyleModel",
     "state": {
      "_model_module": "@jupyter-widgets/controls",
      "_model_module_version": "1.5.0",
      "_model_name": "ProgressStyleModel",
      "_view_count": null,
      "_view_module": "@jupyter-widgets/base",
      "_view_module_version": "1.2.0",
      "_view_name": "StyleView",
      "bar_color": null,
      "description_width": ""
     }
    },
    "5344d9c5bfa94e089d62c160a17b0646": {
     "model_module": "@jupyter-widgets/controls",
     "model_module_version": "1.5.0",
     "model_name": "DescriptionStyleModel",
     "state": {
      "_model_module": "@jupyter-widgets/controls",
      "_model_module_version": "1.5.0",
      "_model_name": "DescriptionStyleModel",
      "_view_count": null,
      "_view_module": "@jupyter-widgets/base",
      "_view_module_version": "1.2.0",
      "_view_name": "StyleView",
      "description_width": ""
     }
    },
    "534a8c1bfe2e46b481588e7b3eef7eb6": {
     "model_module": "@jupyter-widgets/controls",
     "model_module_version": "1.5.0",
     "model_name": "DescriptionStyleModel",
     "state": {
      "_model_module": "@jupyter-widgets/controls",
      "_model_module_version": "1.5.0",
      "_model_name": "DescriptionStyleModel",
      "_view_count": null,
      "_view_module": "@jupyter-widgets/base",
      "_view_module_version": "1.2.0",
      "_view_name": "StyleView",
      "description_width": ""
     }
    },
    "5478cef31f6c4df89f37ab9619672b94": {
     "model_module": "@jupyter-widgets/controls",
     "model_module_version": "1.5.0",
     "model_name": "HTMLModel",
     "state": {
      "_dom_classes": [],
      "_model_module": "@jupyter-widgets/controls",
      "_model_module_version": "1.5.0",
      "_model_name": "HTMLModel",
      "_view_count": null,
      "_view_module": "@jupyter-widgets/controls",
      "_view_module_version": "1.5.0",
      "_view_name": "HTMLView",
      "description": "",
      "description_tooltip": null,
      "layout": "IPY_MODEL_1e474f19cfb44eee8f08193e70542313",
      "placeholder": "​",
      "style": "IPY_MODEL_4ef0e581a3134a37b035b1cedcc67065",
      "value": "Batches: 100%"
     }
    },
    "56f06e72f2e14e329cbf42960922af2e": {
     "model_module": "@jupyter-widgets/controls",
     "model_module_version": "1.5.0",
     "model_name": "ProgressStyleModel",
     "state": {
      "_model_module": "@jupyter-widgets/controls",
      "_model_module_version": "1.5.0",
      "_model_name": "ProgressStyleModel",
      "_view_count": null,
      "_view_module": "@jupyter-widgets/base",
      "_view_module_version": "1.2.0",
      "_view_name": "StyleView",
      "bar_color": null,
      "description_width": ""
     }
    },
    "58a1dbbc903947eb8a2d836599fa5da7": {
     "model_module": "@jupyter-widgets/controls",
     "model_module_version": "1.5.0",
     "model_name": "DescriptionStyleModel",
     "state": {
      "_model_module": "@jupyter-widgets/controls",
      "_model_module_version": "1.5.0",
      "_model_name": "DescriptionStyleModel",
      "_view_count": null,
      "_view_module": "@jupyter-widgets/base",
      "_view_module_version": "1.2.0",
      "_view_name": "StyleView",
      "description_width": ""
     }
    },
    "5b02bd09345a477d884282853a152ffb": {
     "model_module": "@jupyter-widgets/controls",
     "model_module_version": "1.5.0",
     "model_name": "ProgressStyleModel",
     "state": {
      "_model_module": "@jupyter-widgets/controls",
      "_model_module_version": "1.5.0",
      "_model_name": "ProgressStyleModel",
      "_view_count": null,
      "_view_module": "@jupyter-widgets/base",
      "_view_module_version": "1.2.0",
      "_view_name": "StyleView",
      "bar_color": null,
      "description_width": ""
     }
    },
    "5cafec2a71194cec914741dbe8b3083a": {
     "model_module": "@jupyter-widgets/controls",
     "model_module_version": "1.5.0",
     "model_name": "HTMLModel",
     "state": {
      "_dom_classes": [],
      "_model_module": "@jupyter-widgets/controls",
      "_model_module_version": "1.5.0",
      "_model_name": "HTMLModel",
      "_view_count": null,
      "_view_module": "@jupyter-widgets/controls",
      "_view_module_version": "1.5.0",
      "_view_name": "HTMLView",
      "description": "",
      "description_tooltip": null,
      "layout": "IPY_MODEL_278d00880c18472fb06720a8f398e1bb",
      "placeholder": "​",
      "style": "IPY_MODEL_2352127df6ec4ada9afea952c39e3ba3",
      "value": "tokenizer_config.json: 100%"
     }
    },
    "609a90f5700947c68ee8ff64d7f42600": {
     "model_module": "@jupyter-widgets/base",
     "model_module_version": "1.2.0",
     "model_name": "LayoutModel",
     "state": {
      "_model_module": "@jupyter-widgets/base",
      "_model_module_version": "1.2.0",
      "_model_name": "LayoutModel",
      "_view_count": null,
      "_view_module": "@jupyter-widgets/base",
      "_view_module_version": "1.2.0",
      "_view_name": "LayoutView",
      "align_content": null,
      "align_items": null,
      "align_self": null,
      "border": null,
      "bottom": null,
      "display": null,
      "flex": null,
      "flex_flow": null,
      "grid_area": null,
      "grid_auto_columns": null,
      "grid_auto_flow": null,
      "grid_auto_rows": null,
      "grid_column": null,
      "grid_gap": null,
      "grid_row": null,
      "grid_template_areas": null,
      "grid_template_columns": null,
      "grid_template_rows": null,
      "height": null,
      "justify_content": null,
      "justify_items": null,
      "left": null,
      "margin": null,
      "max_height": null,
      "max_width": null,
      "min_height": null,
      "min_width": null,
      "object_fit": null,
      "object_position": null,
      "order": null,
      "overflow": null,
      "overflow_x": null,
      "overflow_y": null,
      "padding": null,
      "right": null,
      "top": null,
      "visibility": null,
      "width": null
     }
    },
    "61b974c4138f4f32b5152a299b525d7a": {
     "model_module": "@jupyter-widgets/controls",
     "model_module_version": "1.5.0",
     "model_name": "DescriptionStyleModel",
     "state": {
      "_model_module": "@jupyter-widgets/controls",
      "_model_module_version": "1.5.0",
      "_model_name": "DescriptionStyleModel",
      "_view_count": null,
      "_view_module": "@jupyter-widgets/base",
      "_view_module_version": "1.2.0",
      "_view_name": "StyleView",
      "description_width": ""
     }
    },
    "63f62ba934d347d9841b40e206b475d9": {
     "model_module": "@jupyter-widgets/base",
     "model_module_version": "1.2.0",
     "model_name": "LayoutModel",
     "state": {
      "_model_module": "@jupyter-widgets/base",
      "_model_module_version": "1.2.0",
      "_model_name": "LayoutModel",
      "_view_count": null,
      "_view_module": "@jupyter-widgets/base",
      "_view_module_version": "1.2.0",
      "_view_name": "LayoutView",
      "align_content": null,
      "align_items": null,
      "align_self": null,
      "border": null,
      "bottom": null,
      "display": null,
      "flex": null,
      "flex_flow": null,
      "grid_area": null,
      "grid_auto_columns": null,
      "grid_auto_flow": null,
      "grid_auto_rows": null,
      "grid_column": null,
      "grid_gap": null,
      "grid_row": null,
      "grid_template_areas": null,
      "grid_template_columns": null,
      "grid_template_rows": null,
      "height": null,
      "justify_content": null,
      "justify_items": null,
      "left": null,
      "margin": null,
      "max_height": null,
      "max_width": null,
      "min_height": null,
      "min_width": null,
      "object_fit": null,
      "object_position": null,
      "order": null,
      "overflow": null,
      "overflow_x": null,
      "overflow_y": null,
      "padding": null,
      "right": null,
      "top": null,
      "visibility": null,
      "width": null
     }
    },
    "67eb5e43728e4587b352f875333299ce": {
     "model_module": "@jupyter-widgets/controls",
     "model_module_version": "1.5.0",
     "model_name": "HBoxModel",
     "state": {
      "_dom_classes": [],
      "_model_module": "@jupyter-widgets/controls",
      "_model_module_version": "1.5.0",
      "_model_name": "HBoxModel",
      "_view_count": null,
      "_view_module": "@jupyter-widgets/controls",
      "_view_module_version": "1.5.0",
      "_view_name": "HBoxView",
      "box_style": "",
      "children": [
       "IPY_MODEL_45681b510d65408cb1df805672bec26c",
       "IPY_MODEL_b1a5bb0da1e74791b30da583c4b02f8d",
       "IPY_MODEL_453ebf55995c4d24935c56188e516a20"
      ],
      "layout": "IPY_MODEL_1355d5e0b3b94e03b0fa721fcb79005b"
     }
    },
    "6c346f5856df486c9171a4daa398751e": {
     "model_module": "@jupyter-widgets/controls",
     "model_module_version": "1.5.0",
     "model_name": "DescriptionStyleModel",
     "state": {
      "_model_module": "@jupyter-widgets/controls",
      "_model_module_version": "1.5.0",
      "_model_name": "DescriptionStyleModel",
      "_view_count": null,
      "_view_module": "@jupyter-widgets/base",
      "_view_module_version": "1.2.0",
      "_view_name": "StyleView",
      "description_width": ""
     }
    },
    "6fc8306b6ad64c239f781e824d22c2d6": {
     "model_module": "@jupyter-widgets/controls",
     "model_module_version": "1.5.0",
     "model_name": "HTMLModel",
     "state": {
      "_dom_classes": [],
      "_model_module": "@jupyter-widgets/controls",
      "_model_module_version": "1.5.0",
      "_model_name": "HTMLModel",
      "_view_count": null,
      "_view_module": "@jupyter-widgets/controls",
      "_view_module_version": "1.5.0",
      "_view_name": "HTMLView",
      "description": "",
      "description_tooltip": null,
      "layout": "IPY_MODEL_bb18dbb52c1a440399f16ecdd0ae7cba",
      "placeholder": "​",
      "style": "IPY_MODEL_49c02110e5364998bb298185b8b3c7d9",
      "value": "spiece.model: 100%"
     }
    },
    "6ffaba639fa842fd9fe9570308bd95a5": {
     "model_module": "@jupyter-widgets/controls",
     "model_module_version": "1.5.0",
     "model_name": "DescriptionStyleModel",
     "state": {
      "_model_module": "@jupyter-widgets/controls",
      "_model_module_version": "1.5.0",
      "_model_name": "DescriptionStyleModel",
      "_view_count": null,
      "_view_module": "@jupyter-widgets/base",
      "_view_module_version": "1.2.0",
      "_view_name": "StyleView",
      "description_width": ""
     }
    },
    "7397bdbfd89a494bbe5a9196cadadd64": {
     "model_module": "@jupyter-widgets/controls",
     "model_module_version": "1.5.0",
     "model_name": "HTMLModel",
     "state": {
      "_dom_classes": [],
      "_model_module": "@jupyter-widgets/controls",
      "_model_module_version": "1.5.0",
      "_model_name": "HTMLModel",
      "_view_count": null,
      "_view_module": "@jupyter-widgets/controls",
      "_view_module_version": "1.5.0",
      "_view_name": "HTMLView",
      "description": "",
      "description_tooltip": null,
      "layout": "IPY_MODEL_91e4c0f446c54f9db4094b6978170dc1",
      "placeholder": "​",
      "style": "IPY_MODEL_61b974c4138f4f32b5152a299b525d7a",
      "value": " 2.20k/2.20k [00:00&lt;00:00, 156kB/s]"
     }
    },
    "8198d008574f49558b0633c6db4e8bdc": {
     "model_module": "@jupyter-widgets/base",
     "model_module_version": "1.2.0",
     "model_name": "LayoutModel",
     "state": {
      "_model_module": "@jupyter-widgets/base",
      "_model_module_version": "1.2.0",
      "_model_name": "LayoutModel",
      "_view_count": null,
      "_view_module": "@jupyter-widgets/base",
      "_view_module_version": "1.2.0",
      "_view_name": "LayoutView",
      "align_content": null,
      "align_items": null,
      "align_self": null,
      "border": null,
      "bottom": null,
      "display": null,
      "flex": null,
      "flex_flow": null,
      "grid_area": null,
      "grid_auto_columns": null,
      "grid_auto_flow": null,
      "grid_auto_rows": null,
      "grid_column": null,
      "grid_gap": null,
      "grid_row": null,
      "grid_template_areas": null,
      "grid_template_columns": null,
      "grid_template_rows": null,
      "height": null,
      "justify_content": null,
      "justify_items": null,
      "left": null,
      "margin": null,
      "max_height": null,
      "max_width": null,
      "min_height": null,
      "min_width": null,
      "object_fit": null,
      "object_position": null,
      "order": null,
      "overflow": null,
      "overflow_x": null,
      "overflow_y": null,
      "padding": null,
      "right": null,
      "top": null,
      "visibility": null,
      "width": null
     }
    },
    "82bb3afe96b84887b6dec2836e346707": {
     "model_module": "@jupyter-widgets/controls",
     "model_module_version": "1.5.0",
     "model_name": "HTMLModel",
     "state": {
      "_dom_classes": [],
      "_model_module": "@jupyter-widgets/controls",
      "_model_module_version": "1.5.0",
      "_model_name": "HTMLModel",
      "_view_count": null,
      "_view_module": "@jupyter-widgets/controls",
      "_view_module_version": "1.5.0",
      "_view_name": "HTMLView",
      "description": "",
      "description_tooltip": null,
      "layout": "IPY_MODEL_44b60956730f45b0834c738b3ad83175",
      "placeholder": "​",
      "style": "IPY_MODEL_4ac21e7871f540df9b382a0d08d03141",
      "value": " 1405/1405 [04:36&lt;00:00, 19.53it/s]"
     }
    },
    "89655f0c32194549a5b6f910a806d64b": {
     "model_module": "@jupyter-widgets/controls",
     "model_module_version": "1.5.0",
     "model_name": "FloatProgressModel",
     "state": {
      "_dom_classes": [],
      "_model_module": "@jupyter-widgets/controls",
      "_model_module_version": "1.5.0",
      "_model_name": "FloatProgressModel",
      "_view_count": null,
      "_view_module": "@jupyter-widgets/controls",
      "_view_module_version": "1.5.0",
      "_view_name": "ProgressView",
      "bar_style": "success",
      "description": "",
      "description_tooltip": null,
      "layout": "IPY_MODEL_13c85fbfa9e44714a2d9400fb6c21396",
      "max": 1405,
      "min": 0,
      "orientation": "horizontal",
      "style": "IPY_MODEL_3b9fce1566c5461b82a2931087dfe096",
      "value": 1405
     }
    },
    "91e4c0f446c54f9db4094b6978170dc1": {
     "model_module": "@jupyter-widgets/base",
     "model_module_version": "1.2.0",
     "model_name": "LayoutModel",
     "state": {
      "_model_module": "@jupyter-widgets/base",
      "_model_module_version": "1.2.0",
      "_model_name": "LayoutModel",
      "_view_count": null,
      "_view_module": "@jupyter-widgets/base",
      "_view_module_version": "1.2.0",
      "_view_name": "LayoutView",
      "align_content": null,
      "align_items": null,
      "align_self": null,
      "border": null,
      "bottom": null,
      "display": null,
      "flex": null,
      "flex_flow": null,
      "grid_area": null,
      "grid_auto_columns": null,
      "grid_auto_flow": null,
      "grid_auto_rows": null,
      "grid_column": null,
      "grid_gap": null,
      "grid_row": null,
      "grid_template_areas": null,
      "grid_template_columns": null,
      "grid_template_rows": null,
      "height": null,
      "justify_content": null,
      "justify_items": null,
      "left": null,
      "margin": null,
      "max_height": null,
      "max_width": null,
      "min_height": null,
      "min_width": null,
      "object_fit": null,
      "object_position": null,
      "order": null,
      "overflow": null,
      "overflow_x": null,
      "overflow_y": null,
      "padding": null,
      "right": null,
      "top": null,
      "visibility": null,
      "width": null
     }
    },
    "93fed86b1a8a4d348a8d7eca64d36e21": {
     "model_module": "@jupyter-widgets/controls",
     "model_module_version": "1.5.0",
     "model_name": "FloatProgressModel",
     "state": {
      "_dom_classes": [],
      "_model_module": "@jupyter-widgets/controls",
      "_model_module_version": "1.5.0",
      "_model_name": "FloatProgressModel",
      "_view_count": null,
      "_view_module": "@jupyter-widgets/controls",
      "_view_module_version": "1.5.0",
      "_view_name": "ProgressView",
      "bar_style": "success",
      "description": "",
      "description_tooltip": null,
      "layout": "IPY_MODEL_a966eb29912345d38306b51a1d4413b3",
      "max": 2424064,
      "min": 0,
      "orientation": "horizontal",
      "style": "IPY_MODEL_5b02bd09345a477d884282853a152ffb",
      "value": 2424064
     }
    },
    "9719d0fe800340bca18f83c5f9b54b5c": {
     "model_module": "@jupyter-widgets/controls",
     "model_module_version": "1.5.0",
     "model_name": "FloatProgressModel",
     "state": {
      "_dom_classes": [],
      "_model_module": "@jupyter-widgets/controls",
      "_model_module_version": "1.5.0",
      "_model_name": "FloatProgressModel",
      "_view_count": null,
      "_view_module": "@jupyter-widgets/controls",
      "_view_module_version": "1.5.0",
      "_view_name": "ProgressView",
      "bar_style": "success",
      "description": "",
      "description_tooltip": null,
      "layout": "IPY_MODEL_a542af6cedee423691a4208e4edb8991",
      "max": 2201,
      "min": 0,
      "orientation": "horizontal",
      "style": "IPY_MODEL_d99506f6425245b984fc064323ef6eae",
      "value": 2201
     }
    },
    "97288f9a9d0b42b3b0040fa054082337": {
     "model_module": "@jupyter-widgets/base",
     "model_module_version": "1.2.0",
     "model_name": "LayoutModel",
     "state": {
      "_model_module": "@jupyter-widgets/base",
      "_model_module_version": "1.2.0",
      "_model_name": "LayoutModel",
      "_view_count": null,
      "_view_module": "@jupyter-widgets/base",
      "_view_module_version": "1.2.0",
      "_view_name": "LayoutView",
      "align_content": null,
      "align_items": null,
      "align_self": null,
      "border": null,
      "bottom": null,
      "display": null,
      "flex": null,
      "flex_flow": null,
      "grid_area": null,
      "grid_auto_columns": null,
      "grid_auto_flow": null,
      "grid_auto_rows": null,
      "grid_column": null,
      "grid_gap": null,
      "grid_row": null,
      "grid_template_areas": null,
      "grid_template_columns": null,
      "grid_template_rows": null,
      "height": null,
      "justify_content": null,
      "justify_items": null,
      "left": null,
      "margin": null,
      "max_height": null,
      "max_width": null,
      "min_height": null,
      "min_width": null,
      "object_fit": null,
      "object_position": null,
      "order": null,
      "overflow": null,
      "overflow_x": null,
      "overflow_y": null,
      "padding": null,
      "right": null,
      "top": null,
      "visibility": null,
      "width": null
     }
    },
    "9977f43a9e514adda488325cb2eafa2e": {
     "model_module": "@jupyter-widgets/base",
     "model_module_version": "1.2.0",
     "model_name": "LayoutModel",
     "state": {
      "_model_module": "@jupyter-widgets/base",
      "_model_module_version": "1.2.0",
      "_model_name": "LayoutModel",
      "_view_count": null,
      "_view_module": "@jupyter-widgets/base",
      "_view_module_version": "1.2.0",
      "_view_name": "LayoutView",
      "align_content": null,
      "align_items": null,
      "align_self": null,
      "border": null,
      "bottom": null,
      "display": null,
      "flex": null,
      "flex_flow": null,
      "grid_area": null,
      "grid_auto_columns": null,
      "grid_auto_flow": null,
      "grid_auto_rows": null,
      "grid_column": null,
      "grid_gap": null,
      "grid_row": null,
      "grid_template_areas": null,
      "grid_template_columns": null,
      "grid_template_rows": null,
      "height": null,
      "justify_content": null,
      "justify_items": null,
      "left": null,
      "margin": null,
      "max_height": null,
      "max_width": null,
      "min_height": null,
      "min_width": null,
      "object_fit": null,
      "object_position": null,
      "order": null,
      "overflow": null,
      "overflow_x": null,
      "overflow_y": null,
      "padding": null,
      "right": null,
      "top": null,
      "visibility": null,
      "width": null
     }
    },
    "9c6dde93000d4e3d9f8205635e493c57": {
     "model_module": "@jupyter-widgets/base",
     "model_module_version": "1.2.0",
     "model_name": "LayoutModel",
     "state": {
      "_model_module": "@jupyter-widgets/base",
      "_model_module_version": "1.2.0",
      "_model_name": "LayoutModel",
      "_view_count": null,
      "_view_module": "@jupyter-widgets/base",
      "_view_module_version": "1.2.0",
      "_view_name": "LayoutView",
      "align_content": null,
      "align_items": null,
      "align_self": null,
      "border": null,
      "bottom": null,
      "display": null,
      "flex": null,
      "flex_flow": null,
      "grid_area": null,
      "grid_auto_columns": null,
      "grid_auto_flow": null,
      "grid_auto_rows": null,
      "grid_column": null,
      "grid_gap": null,
      "grid_row": null,
      "grid_template_areas": null,
      "grid_template_columns": null,
      "grid_template_rows": null,
      "height": null,
      "justify_content": null,
      "justify_items": null,
      "left": null,
      "margin": null,
      "max_height": null,
      "max_width": null,
      "min_height": null,
      "min_width": null,
      "object_fit": null,
      "object_position": null,
      "order": null,
      "overflow": null,
      "overflow_x": null,
      "overflow_y": null,
      "padding": null,
      "right": null,
      "top": null,
      "visibility": null,
      "width": null
     }
    },
    "9dc50ffb6fda42339abeda6a640ef50e": {
     "model_module": "@jupyter-widgets/controls",
     "model_module_version": "1.5.0",
     "model_name": "HTMLModel",
     "state": {
      "_dom_classes": [],
      "_model_module": "@jupyter-widgets/controls",
      "_model_module_version": "1.5.0",
      "_model_name": "HTMLModel",
      "_view_count": null,
      "_view_module": "@jupyter-widgets/controls",
      "_view_module_version": "1.5.0",
      "_view_name": "HTMLView",
      "description": "",
      "description_tooltip": null,
      "layout": "IPY_MODEL_609a90f5700947c68ee8ff64d7f42600",
      "placeholder": "​",
      "style": "IPY_MODEL_4f9323cf392041eaa9ea810bbe1e6a39",
      "value": " 2.54k/2.54k [00:00&lt;00:00, 179kB/s]"
     }
    },
    "a39555fcfe6341ba9e039fe85ff4a8b6": {
     "model_module": "@jupyter-widgets/controls",
     "model_module_version": "1.5.0",
     "model_name": "HTMLModel",
     "state": {
      "_dom_classes": [],
      "_model_module": "@jupyter-widgets/controls",
      "_model_module_version": "1.5.0",
      "_model_name": "HTMLModel",
      "_view_count": null,
      "_view_module": "@jupyter-widgets/controls",
      "_view_module_version": "1.5.0",
      "_view_name": "HTMLView",
      "description": "",
      "description_tooltip": null,
      "layout": "IPY_MODEL_f8cd368460f74a439296d7ed3ab02091",
      "placeholder": "​",
      "style": "IPY_MODEL_6c346f5856df486c9171a4daa398751e",
      "value": " 792k/792k [00:00&lt;00:00, 38.9MB/s]"
     }
    },
    "a542af6cedee423691a4208e4edb8991": {
     "model_module": "@jupyter-widgets/base",
     "model_module_version": "1.2.0",
     "model_name": "LayoutModel",
     "state": {
      "_model_module": "@jupyter-widgets/base",
      "_model_module_version": "1.2.0",
      "_model_name": "LayoutModel",
      "_view_count": null,
      "_view_module": "@jupyter-widgets/base",
      "_view_module_version": "1.2.0",
      "_view_name": "LayoutView",
      "align_content": null,
      "align_items": null,
      "align_self": null,
      "border": null,
      "bottom": null,
      "display": null,
      "flex": null,
      "flex_flow": null,
      "grid_area": null,
      "grid_auto_columns": null,
      "grid_auto_flow": null,
      "grid_auto_rows": null,
      "grid_column": null,
      "grid_gap": null,
      "grid_row": null,
      "grid_template_areas": null,
      "grid_template_columns": null,
      "grid_template_rows": null,
      "height": null,
      "justify_content": null,
      "justify_items": null,
      "left": null,
      "margin": null,
      "max_height": null,
      "max_width": null,
      "min_height": null,
      "min_width": null,
      "object_fit": null,
      "object_position": null,
      "order": null,
      "overflow": null,
      "overflow_x": null,
      "overflow_y": null,
      "padding": null,
      "right": null,
      "top": null,
      "visibility": null,
      "width": null
     }
    },
    "a966eb29912345d38306b51a1d4413b3": {
     "model_module": "@jupyter-widgets/base",
     "model_module_version": "1.2.0",
     "model_name": "LayoutModel",
     "state": {
      "_model_module": "@jupyter-widgets/base",
      "_model_module_version": "1.2.0",
      "_model_name": "LayoutModel",
      "_view_count": null,
      "_view_module": "@jupyter-widgets/base",
      "_view_module_version": "1.2.0",
      "_view_name": "LayoutView",
      "align_content": null,
      "align_items": null,
      "align_self": null,
      "border": null,
      "bottom": null,
      "display": null,
      "flex": null,
      "flex_flow": null,
      "grid_area": null,
      "grid_auto_columns": null,
      "grid_auto_flow": null,
      "grid_auto_rows": null,
      "grid_column": null,
      "grid_gap": null,
      "grid_row": null,
      "grid_template_areas": null,
      "grid_template_columns": null,
      "grid_template_rows": null,
      "height": null,
      "justify_content": null,
      "justify_items": null,
      "left": null,
      "margin": null,
      "max_height": null,
      "max_width": null,
      "min_height": null,
      "min_width": null,
      "object_fit": null,
      "object_position": null,
      "order": null,
      "overflow": null,
      "overflow_x": null,
      "overflow_y": null,
      "padding": null,
      "right": null,
      "top": null,
      "visibility": null,
      "width": null
     }
    },
    "a9ce4b28fdcd4a129742ddaf2cc5ed3e": {
     "model_module": "@jupyter-widgets/controls",
     "model_module_version": "1.5.0",
     "model_name": "FloatProgressModel",
     "state": {
      "_dom_classes": [],
      "_model_module": "@jupyter-widgets/controls",
      "_model_module_version": "1.5.0",
      "_model_name": "FloatProgressModel",
      "_view_count": null,
      "_view_module": "@jupyter-widgets/controls",
      "_view_module_version": "1.5.0",
      "_view_name": "ProgressView",
      "bar_style": "success",
      "description": "",
      "description_tooltip": null,
      "layout": "IPY_MODEL_2bd761c7c0c44b2899c3049a0e514342",
      "max": 1401,
      "min": 0,
      "orientation": "horizontal",
      "style": "IPY_MODEL_2587d09e03e141e98e76b783eb40dd53",
      "value": 1401
     }
    },
    "b1a5bb0da1e74791b30da583c4b02f8d": {
     "model_module": "@jupyter-widgets/controls",
     "model_module_version": "1.5.0",
     "model_name": "FloatProgressModel",
     "state": {
      "_dom_classes": [],
      "_model_module": "@jupyter-widgets/controls",
      "_model_module_version": "1.5.0",
      "_model_name": "FloatProgressModel",
      "_view_count": null,
      "_view_module": "@jupyter-widgets/controls",
      "_view_module_version": "1.5.0",
      "_view_name": "ProgressView",
      "bar_style": "success",
      "description": "",
      "description_tooltip": null,
      "layout": "IPY_MODEL_f8ad5cef5b3e4507a426899aa41072c4",
      "max": 147,
      "min": 0,
      "orientation": "horizontal",
      "style": "IPY_MODEL_5311286e67c74bb78ede05ae51ec87b3",
      "value": 147
     }
    },
    "b3988ae1e5084c13900200287d366468": {
     "model_module": "@jupyter-widgets/controls",
     "model_module_version": "1.5.0",
     "model_name": "DescriptionStyleModel",
     "state": {
      "_model_module": "@jupyter-widgets/controls",
      "_model_module_version": "1.5.0",
      "_model_name": "DescriptionStyleModel",
      "_view_count": null,
      "_view_module": "@jupyter-widgets/base",
      "_view_module_version": "1.2.0",
      "_view_name": "StyleView",
      "description_width": ""
     }
    },
    "bb18dbb52c1a440399f16ecdd0ae7cba": {
     "model_module": "@jupyter-widgets/base",
     "model_module_version": "1.2.0",
     "model_name": "LayoutModel",
     "state": {
      "_model_module": "@jupyter-widgets/base",
      "_model_module_version": "1.2.0",
      "_model_name": "LayoutModel",
      "_view_count": null,
      "_view_module": "@jupyter-widgets/base",
      "_view_module_version": "1.2.0",
      "_view_name": "LayoutView",
      "align_content": null,
      "align_items": null,
      "align_self": null,
      "border": null,
      "bottom": null,
      "display": null,
      "flex": null,
      "flex_flow": null,
      "grid_area": null,
      "grid_auto_columns": null,
      "grid_auto_flow": null,
      "grid_auto_rows": null,
      "grid_column": null,
      "grid_gap": null,
      "grid_row": null,
      "grid_template_areas": null,
      "grid_template_columns": null,
      "grid_template_rows": null,
      "height": null,
      "justify_content": null,
      "justify_items": null,
      "left": null,
      "margin": null,
      "max_height": null,
      "max_width": null,
      "min_height": null,
      "min_width": null,
      "object_fit": null,
      "object_position": null,
      "order": null,
      "overflow": null,
      "overflow_x": null,
      "overflow_y": null,
      "padding": null,
      "right": null,
      "top": null,
      "visibility": null,
      "width": null
     }
    },
    "bc2f09fcd4f5475eb8d01dce50a57c27": {
     "model_module": "@jupyter-widgets/base",
     "model_module_version": "1.2.0",
     "model_name": "LayoutModel",
     "state": {
      "_model_module": "@jupyter-widgets/base",
      "_model_module_version": "1.2.0",
      "_model_name": "LayoutModel",
      "_view_count": null,
      "_view_module": "@jupyter-widgets/base",
      "_view_module_version": "1.2.0",
      "_view_name": "LayoutView",
      "align_content": null,
      "align_items": null,
      "align_self": null,
      "border": null,
      "bottom": null,
      "display": null,
      "flex": null,
      "flex_flow": null,
      "grid_area": null,
      "grid_auto_columns": null,
      "grid_auto_flow": null,
      "grid_auto_rows": null,
      "grid_column": null,
      "grid_gap": null,
      "grid_row": null,
      "grid_template_areas": null,
      "grid_template_columns": null,
      "grid_template_rows": null,
      "height": null,
      "justify_content": null,
      "justify_items": null,
      "left": null,
      "margin": null,
      "max_height": null,
      "max_width": null,
      "min_height": null,
      "min_width": null,
      "object_fit": null,
      "object_position": null,
      "order": null,
      "overflow": null,
      "overflow_x": null,
      "overflow_y": null,
      "padding": null,
      "right": null,
      "top": null,
      "visibility": null,
      "width": null
     }
    },
    "bd50fcd718c5456598c4ee6853677835": {
     "model_module": "@jupyter-widgets/base",
     "model_module_version": "1.2.0",
     "model_name": "LayoutModel",
     "state": {
      "_model_module": "@jupyter-widgets/base",
      "_model_module_version": "1.2.0",
      "_model_name": "LayoutModel",
      "_view_count": null,
      "_view_module": "@jupyter-widgets/base",
      "_view_module_version": "1.2.0",
      "_view_name": "LayoutView",
      "align_content": null,
      "align_items": null,
      "align_self": null,
      "border": null,
      "bottom": null,
      "display": null,
      "flex": null,
      "flex_flow": null,
      "grid_area": null,
      "grid_auto_columns": null,
      "grid_auto_flow": null,
      "grid_auto_rows": null,
      "grid_column": null,
      "grid_gap": null,
      "grid_row": null,
      "grid_template_areas": null,
      "grid_template_columns": null,
      "grid_template_rows": null,
      "height": null,
      "justify_content": null,
      "justify_items": null,
      "left": null,
      "margin": null,
      "max_height": null,
      "max_width": null,
      "min_height": null,
      "min_width": null,
      "object_fit": null,
      "object_position": null,
      "order": null,
      "overflow": null,
      "overflow_x": null,
      "overflow_y": null,
      "padding": null,
      "right": null,
      "top": null,
      "visibility": null,
      "width": null
     }
    },
    "bdcb59a969e942e88e8ca33c5307db06": {
     "model_module": "@jupyter-widgets/base",
     "model_module_version": "1.2.0",
     "model_name": "LayoutModel",
     "state": {
      "_model_module": "@jupyter-widgets/base",
      "_model_module_version": "1.2.0",
      "_model_name": "LayoutModel",
      "_view_count": null,
      "_view_module": "@jupyter-widgets/base",
      "_view_module_version": "1.2.0",
      "_view_name": "LayoutView",
      "align_content": null,
      "align_items": null,
      "align_self": null,
      "border": null,
      "bottom": null,
      "display": null,
      "flex": null,
      "flex_flow": null,
      "grid_area": null,
      "grid_auto_columns": null,
      "grid_auto_flow": null,
      "grid_auto_rows": null,
      "grid_column": null,
      "grid_gap": null,
      "grid_row": null,
      "grid_template_areas": null,
      "grid_template_columns": null,
      "grid_template_rows": null,
      "height": null,
      "justify_content": null,
      "justify_items": null,
      "left": null,
      "margin": null,
      "max_height": null,
      "max_width": null,
      "min_height": null,
      "min_width": null,
      "object_fit": null,
      "object_position": null,
      "order": null,
      "overflow": null,
      "overflow_x": null,
      "overflow_y": null,
      "padding": null,
      "right": null,
      "top": null,
      "visibility": null,
      "width": null
     }
    },
    "c2e3689ccbde4ccf88609498723b02af": {
     "model_module": "@jupyter-widgets/base",
     "model_module_version": "1.2.0",
     "model_name": "LayoutModel",
     "state": {
      "_model_module": "@jupyter-widgets/base",
      "_model_module_version": "1.2.0",
      "_model_name": "LayoutModel",
      "_view_count": null,
      "_view_module": "@jupyter-widgets/base",
      "_view_module_version": "1.2.0",
      "_view_name": "LayoutView",
      "align_content": null,
      "align_items": null,
      "align_self": null,
      "border": null,
      "bottom": null,
      "display": null,
      "flex": null,
      "flex_flow": null,
      "grid_area": null,
      "grid_auto_columns": null,
      "grid_auto_flow": null,
      "grid_auto_rows": null,
      "grid_column": null,
      "grid_gap": null,
      "grid_row": null,
      "grid_template_areas": null,
      "grid_template_columns": null,
      "grid_template_rows": null,
      "height": null,
      "justify_content": null,
      "justify_items": null,
      "left": null,
      "margin": null,
      "max_height": null,
      "max_width": null,
      "min_height": null,
      "min_width": null,
      "object_fit": null,
      "object_position": null,
      "order": null,
      "overflow": null,
      "overflow_x": null,
      "overflow_y": null,
      "padding": null,
      "right": null,
      "top": null,
      "visibility": null,
      "width": null
     }
    },
    "c5a392a10e3d4940887869effa8ce87e": {
     "model_module": "@jupyter-widgets/controls",
     "model_module_version": "1.5.0",
     "model_name": "DescriptionStyleModel",
     "state": {
      "_model_module": "@jupyter-widgets/controls",
      "_model_module_version": "1.5.0",
      "_model_name": "DescriptionStyleModel",
      "_view_count": null,
      "_view_module": "@jupyter-widgets/base",
      "_view_module_version": "1.2.0",
      "_view_name": "StyleView",
      "description_width": ""
     }
    },
    "d2e5d0a7024f4b17b3e3ea75542c1314": {
     "model_module": "@jupyter-widgets/controls",
     "model_module_version": "1.5.0",
     "model_name": "HTMLModel",
     "state": {
      "_dom_classes": [],
      "_model_module": "@jupyter-widgets/controls",
      "_model_module_version": "1.5.0",
      "_model_name": "HTMLModel",
      "_view_count": null,
      "_view_module": "@jupyter-widgets/controls",
      "_view_module_version": "1.5.0",
      "_view_name": "HTMLView",
      "description": "",
      "description_tooltip": null,
      "layout": "IPY_MODEL_8198d008574f49558b0633c6db4e8bdc",
      "placeholder": "​",
      "style": "IPY_MODEL_58a1dbbc903947eb8a2d836599fa5da7",
      "value": " 308M/308M [00:01&lt;00:00, 173MB/s]"
     }
    },
    "d2ecdaf719ef42f29f7e63549377364e": {
     "model_module": "@jupyter-widgets/controls",
     "model_module_version": "1.5.0",
     "model_name": "ProgressStyleModel",
     "state": {
      "_model_module": "@jupyter-widgets/controls",
      "_model_module_version": "1.5.0",
      "_model_name": "ProgressStyleModel",
      "_view_count": null,
      "_view_module": "@jupyter-widgets/base",
      "_view_module_version": "1.2.0",
      "_view_name": "StyleView",
      "bar_color": null,
      "description_width": ""
     }
    },
    "d36fabd5360d4db0a95fd38e39c556fd": {
     "model_module": "@jupyter-widgets/controls",
     "model_module_version": "1.5.0",
     "model_name": "HTMLModel",
     "state": {
      "_dom_classes": [],
      "_model_module": "@jupyter-widgets/controls",
      "_model_module_version": "1.5.0",
      "_model_name": "HTMLModel",
      "_view_count": null,
      "_view_module": "@jupyter-widgets/controls",
      "_view_module_version": "1.5.0",
      "_view_name": "HTMLView",
      "description": "",
      "description_tooltip": null,
      "layout": "IPY_MODEL_dbf6fc98e363470982154ad5e8d491ec",
      "placeholder": "​",
      "style": "IPY_MODEL_c5a392a10e3d4940887869effa8ce87e",
      "value": " 1.40k/1.40k [00:00&lt;00:00, 60.4kB/s]"
     }
    },
    "d5a523c75f044d759760af77b0fe2ad3": {
     "model_module": "@jupyter-widgets/controls",
     "model_module_version": "1.5.0",
     "model_name": "HBoxModel",
     "state": {
      "_dom_classes": [],
      "_model_module": "@jupyter-widgets/controls",
      "_model_module_version": "1.5.0",
      "_model_name": "HBoxModel",
      "_view_count": null,
      "_view_module": "@jupyter-widgets/controls",
      "_view_module_version": "1.5.0",
      "_view_name": "HBoxView",
      "box_style": "",
      "children": [
       "IPY_MODEL_5cafec2a71194cec914741dbe8b3083a",
       "IPY_MODEL_0203b4842d884c4a95f22148a95268ba",
       "IPY_MODEL_9dc50ffb6fda42339abeda6a640ef50e"
      ],
      "layout": "IPY_MODEL_bd50fcd718c5456598c4ee6853677835"
     }
    },
    "d99506f6425245b984fc064323ef6eae": {
     "model_module": "@jupyter-widgets/controls",
     "model_module_version": "1.5.0",
     "model_name": "ProgressStyleModel",
     "state": {
      "_model_module": "@jupyter-widgets/controls",
      "_model_module_version": "1.5.0",
      "_model_name": "ProgressStyleModel",
      "_view_count": null,
      "_view_module": "@jupyter-widgets/base",
      "_view_module_version": "1.2.0",
      "_view_name": "StyleView",
      "bar_color": null,
      "description_width": ""
     }
    },
    "dbf6fc98e363470982154ad5e8d491ec": {
     "model_module": "@jupyter-widgets/base",
     "model_module_version": "1.2.0",
     "model_name": "LayoutModel",
     "state": {
      "_model_module": "@jupyter-widgets/base",
      "_model_module_version": "1.2.0",
      "_model_name": "LayoutModel",
      "_view_count": null,
      "_view_module": "@jupyter-widgets/base",
      "_view_module_version": "1.2.0",
      "_view_name": "LayoutView",
      "align_content": null,
      "align_items": null,
      "align_self": null,
      "border": null,
      "bottom": null,
      "display": null,
      "flex": null,
      "flex_flow": null,
      "grid_area": null,
      "grid_auto_columns": null,
      "grid_auto_flow": null,
      "grid_auto_rows": null,
      "grid_column": null,
      "grid_gap": null,
      "grid_row": null,
      "grid_template_areas": null,
      "grid_template_columns": null,
      "grid_template_rows": null,
      "height": null,
      "justify_content": null,
      "justify_items": null,
      "left": null,
      "margin": null,
      "max_height": null,
      "max_width": null,
      "min_height": null,
      "min_width": null,
      "object_fit": null,
      "object_position": null,
      "order": null,
      "overflow": null,
      "overflow_x": null,
      "overflow_y": null,
      "padding": null,
      "right": null,
      "top": null,
      "visibility": null,
      "width": null
     }
    },
    "e1ee198bf35e45e2a627610464e951fd": {
     "model_module": "@jupyter-widgets/controls",
     "model_module_version": "1.5.0",
     "model_name": "FloatProgressModel",
     "state": {
      "_dom_classes": [],
      "_model_module": "@jupyter-widgets/controls",
      "_model_module_version": "1.5.0",
      "_model_name": "FloatProgressModel",
      "_view_count": null,
      "_view_module": "@jupyter-widgets/controls",
      "_view_module_version": "1.5.0",
      "_view_name": "ProgressView",
      "bar_style": "success",
      "description": "",
      "description_tooltip": null,
      "layout": "IPY_MODEL_97288f9a9d0b42b3b0040fa054082337",
      "max": 307867048,
      "min": 0,
      "orientation": "horizontal",
      "style": "IPY_MODEL_f86cacc871e3485da0cac588c8b6ae24",
      "value": 307867048
     }
    },
    "e77fd60d7cfe444086e0f4c1e13fe872": {
     "model_module": "@jupyter-widgets/controls",
     "model_module_version": "1.5.0",
     "model_name": "HBoxModel",
     "state": {
      "_dom_classes": [],
      "_model_module": "@jupyter-widgets/controls",
      "_model_module_version": "1.5.0",
      "_model_name": "HBoxModel",
      "_view_count": null,
      "_view_module": "@jupyter-widgets/controls",
      "_view_module_version": "1.5.0",
      "_view_name": "HBoxView",
      "box_style": "",
      "children": [
       "IPY_MODEL_47d5cb87c80847eba31a238cc8ecb3c0",
       "IPY_MODEL_e1ee198bf35e45e2a627610464e951fd",
       "IPY_MODEL_d2e5d0a7024f4b17b3e3ea75542c1314"
      ],
      "layout": "IPY_MODEL_bdcb59a969e942e88e8ca33c5307db06"
     }
    },
    "e804f01b4384400d8ff8dfb77e43819f": {
     "model_module": "@jupyter-widgets/controls",
     "model_module_version": "1.5.0",
     "model_name": "HTMLModel",
     "state": {
      "_dom_classes": [],
      "_model_module": "@jupyter-widgets/controls",
      "_model_module_version": "1.5.0",
      "_model_name": "HTMLModel",
      "_view_count": null,
      "_view_module": "@jupyter-widgets/controls",
      "_view_module_version": "1.5.0",
      "_view_name": "HTMLView",
      "description": "",
      "description_tooltip": null,
      "layout": "IPY_MODEL_bc2f09fcd4f5475eb8d01dce50a57c27",
      "placeholder": "​",
      "style": "IPY_MODEL_534a8c1bfe2e46b481588e7b3eef7eb6",
      "value": "special_tokens_map.json: 100%"
     }
    },
    "e828d529dfca42abaea5e11d351bc263": {
     "model_module": "@jupyter-widgets/controls",
     "model_module_version": "1.5.0",
     "model_name": "HBoxModel",
     "state": {
      "_dom_classes": [],
      "_model_module": "@jupyter-widgets/controls",
      "_model_module_version": "1.5.0",
      "_model_name": "HBoxModel",
      "_view_count": null,
      "_view_module": "@jupyter-widgets/controls",
      "_view_module_version": "1.5.0",
      "_view_name": "HBoxView",
      "box_style": "",
      "children": [
       "IPY_MODEL_1ffeeead973a43d1a69cd4db3a6e1fe0",
       "IPY_MODEL_a9ce4b28fdcd4a129742ddaf2cc5ed3e",
       "IPY_MODEL_d36fabd5360d4db0a95fd38e39c556fd"
      ],
      "layout": "IPY_MODEL_3d5ace4e3dff40d7887cc5d627f412f1"
     }
    },
    "ec7dbf66134e4171a83817f1b046d91b": {
     "model_module": "@jupyter-widgets/controls",
     "model_module_version": "1.5.0",
     "model_name": "HBoxModel",
     "state": {
      "_dom_classes": [],
      "_model_module": "@jupyter-widgets/controls",
      "_model_module_version": "1.5.0",
      "_model_name": "HBoxModel",
      "_view_count": null,
      "_view_module": "@jupyter-widgets/controls",
      "_view_module_version": "1.5.0",
      "_view_name": "HBoxView",
      "box_style": "",
      "children": [
       "IPY_MODEL_e804f01b4384400d8ff8dfb77e43819f",
       "IPY_MODEL_9719d0fe800340bca18f83c5f9b54b5c",
       "IPY_MODEL_7397bdbfd89a494bbe5a9196cadadd64"
      ],
      "layout": "IPY_MODEL_2aec8e14d0ce462ab22650dbf729f6c2"
     }
    },
    "f0015c06af5747c2841a555d1fe68d4f": {
     "model_module": "@jupyter-widgets/base",
     "model_module_version": "1.2.0",
     "model_name": "LayoutModel",
     "state": {
      "_model_module": "@jupyter-widgets/base",
      "_model_module_version": "1.2.0",
      "_model_name": "LayoutModel",
      "_view_count": null,
      "_view_module": "@jupyter-widgets/base",
      "_view_module_version": "1.2.0",
      "_view_name": "LayoutView",
      "align_content": null,
      "align_items": null,
      "align_self": null,
      "border": null,
      "bottom": null,
      "display": null,
      "flex": null,
      "flex_flow": null,
      "grid_area": null,
      "grid_auto_columns": null,
      "grid_auto_flow": null,
      "grid_auto_rows": null,
      "grid_column": null,
      "grid_gap": null,
      "grid_row": null,
      "grid_template_areas": null,
      "grid_template_columns": null,
      "grid_template_rows": null,
      "height": null,
      "justify_content": null,
      "justify_items": null,
      "left": null,
      "margin": null,
      "max_height": null,
      "max_width": null,
      "min_height": null,
      "min_width": null,
      "object_fit": null,
      "object_position": null,
      "order": null,
      "overflow": null,
      "overflow_x": null,
      "overflow_y": null,
      "padding": null,
      "right": null,
      "top": null,
      "visibility": null,
      "width": null
     }
    },
    "f86cacc871e3485da0cac588c8b6ae24": {
     "model_module": "@jupyter-widgets/controls",
     "model_module_version": "1.5.0",
     "model_name": "ProgressStyleModel",
     "state": {
      "_model_module": "@jupyter-widgets/controls",
      "_model_module_version": "1.5.0",
      "_model_name": "ProgressStyleModel",
      "_view_count": null,
      "_view_module": "@jupyter-widgets/base",
      "_view_module_version": "1.2.0",
      "_view_name": "StyleView",
      "bar_color": null,
      "description_width": ""
     }
    },
    "f8ad5cef5b3e4507a426899aa41072c4": {
     "model_module": "@jupyter-widgets/base",
     "model_module_version": "1.2.0",
     "model_name": "LayoutModel",
     "state": {
      "_model_module": "@jupyter-widgets/base",
      "_model_module_version": "1.2.0",
      "_model_name": "LayoutModel",
      "_view_count": null,
      "_view_module": "@jupyter-widgets/base",
      "_view_module_version": "1.2.0",
      "_view_name": "LayoutView",
      "align_content": null,
      "align_items": null,
      "align_self": null,
      "border": null,
      "bottom": null,
      "display": null,
      "flex": null,
      "flex_flow": null,
      "grid_area": null,
      "grid_auto_columns": null,
      "grid_auto_flow": null,
      "grid_auto_rows": null,
      "grid_column": null,
      "grid_gap": null,
      "grid_row": null,
      "grid_template_areas": null,
      "grid_template_columns": null,
      "grid_template_rows": null,
      "height": null,
      "justify_content": null,
      "justify_items": null,
      "left": null,
      "margin": null,
      "max_height": null,
      "max_width": null,
      "min_height": null,
      "min_width": null,
      "object_fit": null,
      "object_position": null,
      "order": null,
      "overflow": null,
      "overflow_x": null,
      "overflow_y": null,
      "padding": null,
      "right": null,
      "top": null,
      "visibility": null,
      "width": null
     }
    },
    "f8cd368460f74a439296d7ed3ab02091": {
     "model_module": "@jupyter-widgets/base",
     "model_module_version": "1.2.0",
     "model_name": "LayoutModel",
     "state": {
      "_model_module": "@jupyter-widgets/base",
      "_model_module_version": "1.2.0",
      "_model_name": "LayoutModel",
      "_view_count": null,
      "_view_module": "@jupyter-widgets/base",
      "_view_module_version": "1.2.0",
      "_view_name": "LayoutView",
      "align_content": null,
      "align_items": null,
      "align_self": null,
      "border": null,
      "bottom": null,
      "display": null,
      "flex": null,
      "flex_flow": null,
      "grid_area": null,
      "grid_auto_columns": null,
      "grid_auto_flow": null,
      "grid_auto_rows": null,
      "grid_column": null,
      "grid_gap": null,
      "grid_row": null,
      "grid_template_areas": null,
      "grid_template_columns": null,
      "grid_template_rows": null,
      "height": null,
      "justify_content": null,
      "justify_items": null,
      "left": null,
      "margin": null,
      "max_height": null,
      "max_width": null,
      "min_height": null,
      "min_width": null,
      "object_fit": null,
      "object_position": null,
      "order": null,
      "overflow": null,
      "overflow_x": null,
      "overflow_y": null,
      "padding": null,
      "right": null,
      "top": null,
      "visibility": null,
      "width": null
     }
    }
   }
  }
 },
 "nbformat": 4,
 "nbformat_minor": 4
}
